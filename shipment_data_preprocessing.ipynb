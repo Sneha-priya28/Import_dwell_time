{
 "cells": [
  {
   "cell_type": "code",
   "execution_count": 57,
   "metadata": {},
   "outputs": [],
   "source": [
    "import pandas as pd\n",
    "import numpy as np\n",
    "from matplotlib import pyplot as plt\n",
    "import seaborn as sns\n",
    "from scipy.stats import shapiro\n",
    "from scipy.stats import spearmanr\n",
    "from scipy.stats import mannwhitneyu\n",
    "from scipy.stats import pearsonr\n",
    "from scipy.stats import kruskal\n",
    "from scipy.stats import shapiro\n",
    "from scipy.stats import boxcox ,yeojohnson,zscore\n",
    "from sklearn.preprocessing import MinMaxScaler\n"
   ]
  },
  {
   "cell_type": "code",
   "execution_count": 58,
   "metadata": {},
   "outputs": [],
   "source": [
    "shipment_data = pd.read_csv(r\"C:\\Users\\sneha.priya\\OneDrive - WiseTech Global Pty Ltd\\Desktop\\DS\\VDT model\\DS Interview Assignment\\DS Interview Assignment\\Data for Assignment 1\\csv_files\\data1_shipments.csv\")\n",
    "# vessel_data = pd.read_csv(r\"C:\\Users\\sneha.priya\\Downloads\\DS Interview Assignment\\DS Interview Assignment\\Data for Assignment 1\\data2_vessel.csv\")\n",
    "# ports_data = pd.read_csv(r\"C:\\Users\\sneha.priya\\Downloads\\DS Interview Assignment\\DS Interview Assignment\\Data for Assignment 1\\data3_ports.csv\")"
   ]
  },
  {
   "cell_type": "code",
   "execution_count": 59,
   "metadata": {},
   "outputs": [
    {
     "data": {
      "text/html": [
       "<div>\n",
       "<style scoped>\n",
       "    .dataframe tbody tr th:only-of-type {\n",
       "        vertical-align: middle;\n",
       "    }\n",
       "\n",
       "    .dataframe tbody tr th {\n",
       "        vertical-align: top;\n",
       "    }\n",
       "\n",
       "    .dataframe thead th {\n",
       "        text-align: right;\n",
       "    }\n",
       "</style>\n",
       "<table border=\"1\" class=\"dataframe\">\n",
       "  <thead>\n",
       "    <tr style=\"text-align: right;\">\n",
       "      <th></th>\n",
       "      <th>SHIPMENTID</th>\n",
       "      <th>VESSEL</th>\n",
       "      <th>IMO</th>\n",
       "      <th>VOYAGE#</th>\n",
       "      <th>ORIGIN_PORT</th>\n",
       "      <th>DESTINATION_PORT</th>\n",
       "      <th>ARRIVAL_TIME</th>\n",
       "      <th>GATEOUT_TIME</th>\n",
       "      <th>EQUIPMENTTYPECODE</th>\n",
       "      <th>HAZMAT</th>\n",
       "      <th>GROSS_WEIGHT</th>\n",
       "      <th>weight_uom</th>\n",
       "    </tr>\n",
       "  </thead>\n",
       "  <tbody>\n",
       "    <tr>\n",
       "      <th>0</th>\n",
       "      <td>1</td>\n",
       "      <td>BELLAVIA</td>\n",
       "      <td>9290440</td>\n",
       "      <td>003E</td>\n",
       "      <td>NAGOYA</td>\n",
       "      <td>TACOMA</td>\n",
       "      <td>28-08-2019 06:30</td>\n",
       "      <td>29-08-2019 13:11</td>\n",
       "      <td>UCU</td>\n",
       "      <td>N</td>\n",
       "      <td>NaN</td>\n",
       "      <td>NaN</td>\n",
       "    </tr>\n",
       "    <tr>\n",
       "      <th>1</th>\n",
       "      <td>13</td>\n",
       "      <td>BELLAVIA</td>\n",
       "      <td>9290440</td>\n",
       "      <td>003E</td>\n",
       "      <td>TOKYO</td>\n",
       "      <td>TACOMA</td>\n",
       "      <td>28-08-2019 06:30</td>\n",
       "      <td>30-08-2019 14:30</td>\n",
       "      <td>UCU</td>\n",
       "      <td>N</td>\n",
       "      <td>NaN</td>\n",
       "      <td>NaN</td>\n",
       "    </tr>\n",
       "    <tr>\n",
       "      <th>2</th>\n",
       "      <td>1079</td>\n",
       "      <td>SOUTHAMPTON EXPRESS</td>\n",
       "      <td>9447885</td>\n",
       "      <td>002E</td>\n",
       "      <td>HONG KONG</td>\n",
       "      <td>NEW YORK</td>\n",
       "      <td>22-09-2019 10:48</td>\n",
       "      <td>26-09-2019 06:55</td>\n",
       "      <td>UCU</td>\n",
       "      <td>N</td>\n",
       "      <td>NaN</td>\n",
       "      <td>NaN</td>\n",
       "    </tr>\n",
       "    <tr>\n",
       "      <th>3</th>\n",
       "      <td>1080</td>\n",
       "      <td>SOUTHAMPTON EXPRESS</td>\n",
       "      <td>9447885</td>\n",
       "      <td>002E</td>\n",
       "      <td>HONG KONG</td>\n",
       "      <td>NEW YORK</td>\n",
       "      <td>22-09-2019 10:48</td>\n",
       "      <td>25-09-2019 11:47</td>\n",
       "      <td>UCU</td>\n",
       "      <td>N</td>\n",
       "      <td>NaN</td>\n",
       "      <td>NaN</td>\n",
       "    </tr>\n",
       "    <tr>\n",
       "      <th>4</th>\n",
       "      <td>1149</td>\n",
       "      <td>MOL MOTIVATOR</td>\n",
       "      <td>9475624</td>\n",
       "      <td>048E</td>\n",
       "      <td>SHANGHAI</td>\n",
       "      <td>CHARLESTON</td>\n",
       "      <td>24-09-2019 02:25</td>\n",
       "      <td>25-09-2019 16:21</td>\n",
       "      <td>UCU</td>\n",
       "      <td>N</td>\n",
       "      <td>NaN</td>\n",
       "      <td>NaN</td>\n",
       "    </tr>\n",
       "  </tbody>\n",
       "</table>\n",
       "</div>"
      ],
      "text/plain": [
       "   SHIPMENTID               VESSEL      IMO VOYAGE# ORIGIN_PORT  \\\n",
       "0           1             BELLAVIA  9290440    003E      NAGOYA   \n",
       "1          13             BELLAVIA  9290440    003E       TOKYO   \n",
       "2        1079  SOUTHAMPTON EXPRESS  9447885    002E   HONG KONG   \n",
       "3        1080  SOUTHAMPTON EXPRESS  9447885    002E   HONG KONG   \n",
       "4        1149        MOL MOTIVATOR  9475624    048E    SHANGHAI   \n",
       "\n",
       "  DESTINATION_PORT      ARRIVAL_TIME      GATEOUT_TIME EQUIPMENTTYPECODE  \\\n",
       "0           TACOMA  28-08-2019 06:30  29-08-2019 13:11               UCU   \n",
       "1           TACOMA  28-08-2019 06:30  30-08-2019 14:30               UCU   \n",
       "2         NEW YORK  22-09-2019 10:48  26-09-2019 06:55               UCU   \n",
       "3         NEW YORK  22-09-2019 10:48  25-09-2019 11:47               UCU   \n",
       "4       CHARLESTON  24-09-2019 02:25  25-09-2019 16:21               UCU   \n",
       "\n",
       "  HAZMAT  GROSS_WEIGHT weight_uom  \n",
       "0      N           NaN        NaN  \n",
       "1      N           NaN        NaN  \n",
       "2      N           NaN        NaN  \n",
       "3      N           NaN        NaN  \n",
       "4      N           NaN        NaN  "
      ]
     },
     "execution_count": 59,
     "metadata": {},
     "output_type": "execute_result"
    }
   ],
   "source": [
    "shipment_data.head()"
   ]
  },
  {
   "cell_type": "markdown",
   "metadata": {},
   "source": [
    "Shipment Data Analysis"
   ]
  },
  {
   "cell_type": "code",
   "execution_count": 60,
   "metadata": {},
   "outputs": [
    {
     "data": {
      "text/plain": [
       "Index(['SHIPMENTID', 'VESSEL', 'IMO', 'VOYAGE#', 'ORIGIN_PORT',\n",
       "       'DESTINATION_PORT', 'ARRIVAL_TIME', 'GATEOUT_TIME', 'EQUIPMENTTYPECODE',\n",
       "       'HAZMAT', 'GROSS_WEIGHT', 'weight_uom'],\n",
       "      dtype='object')"
      ]
     },
     "execution_count": 60,
     "metadata": {},
     "output_type": "execute_result"
    }
   ],
   "source": [
    "shipment_data.columns"
   ]
  },
  {
   "cell_type": "code",
   "execution_count": 61,
   "metadata": {},
   "outputs": [
    {
     "data": {
      "text/plain": [
       "40ST    358\n",
       "40HC    315\n",
       "20ST    133\n",
       "UCU     106\n",
       "45G0     23\n",
       "40RF     10\n",
       "42G0     10\n",
       "LCL       7\n",
       "40OT      7\n",
       "40HR      5\n",
       "20FR      4\n",
       "40HQ      4\n",
       "LCL7      3\n",
       "45HC      2\n",
       "22G0      1\n",
       "20RF      1\n",
       "45HQ      1\n",
       "Name: EQUIPMENTTYPECODE, dtype: int64"
      ]
     },
     "execution_count": 61,
     "metadata": {},
     "output_type": "execute_result"
    }
   ],
   "source": [
    "shipment_data['EQUIPMENTTYPECODE'].value_counts()"
   ]
  },
  {
   "cell_type": "code",
   "execution_count": 62,
   "metadata": {},
   "outputs": [],
   "source": [
    "shipment_data['ARRIVAL_TIME'] = pd.to_datetime(shipment_data['ARRIVAL_TIME'],dayfirst=True)\n",
    "shipment_data['GATEOUT_TIME'] = pd.to_datetime(shipment_data['GATEOUT_TIME'],dayfirst=True)"
   ]
  },
  {
   "cell_type": "code",
   "execution_count": 63,
   "metadata": {},
   "outputs": [
    {
     "data": {
      "text/plain": [
       "0      30.683333\n",
       "1      56.000000\n",
       "2      92.116667\n",
       "3      72.983333\n",
       "4      37.933333\n",
       "         ...    \n",
       "989    49.316667\n",
       "990    38.383333\n",
       "991    62.100000\n",
       "992    20.433333\n",
       "993    19.400000\n",
       "Name: IMPORT_DWELL, Length: 994, dtype: float64"
      ]
     },
     "execution_count": 63,
     "metadata": {},
     "output_type": "execute_result"
    }
   ],
   "source": [
    "shipment_data['IMPORT_DWELL'] = (shipment_data['GATEOUT_TIME'] - shipment_data['ARRIVAL_TIME']).dt.total_seconds() / 3600\n",
    "shipment_data['IMPORT_DWELL']"
   ]
  },
  {
   "cell_type": "code",
   "execution_count": 64,
   "metadata": {},
   "outputs": [
    {
     "data": {
      "text/plain": [
       "SHIPMENTID             0\n",
       "VESSEL                 0\n",
       "IMO                    0\n",
       "VOYAGE#                0\n",
       "ORIGIN_PORT            0\n",
       "DESTINATION_PORT       0\n",
       "ARRIVAL_TIME           0\n",
       "GATEOUT_TIME           0\n",
       "EQUIPMENTTYPECODE      4\n",
       "HAZMAT               202\n",
       "GROSS_WEIGHT         668\n",
       "weight_uom           668\n",
       "IMPORT_DWELL           0\n",
       "dtype: int64"
      ]
     },
     "execution_count": 64,
     "metadata": {},
     "output_type": "execute_result"
    }
   ],
   "source": [
    "shipment_data.isna().sum()"
   ]
  },
  {
   "cell_type": "code",
   "execution_count": 65,
   "metadata": {},
   "outputs": [
    {
     "data": {
      "text/plain": [
       "count     994.000000\n",
       "mean      117.951844\n",
       "std        88.208921\n",
       "min        -0.333333\n",
       "25%        62.691667\n",
       "50%       104.683333\n",
       "75%       152.045833\n",
       "max      1035.950000\n",
       "Name: IMPORT_DWELL, dtype: float64"
      ]
     },
     "execution_count": 65,
     "metadata": {},
     "output_type": "execute_result"
    }
   ],
   "source": [
    "shipment_data['IMPORT_DWELL'].describe()"
   ]
  },
  {
   "cell_type": "code",
   "execution_count": 66,
   "metadata": {},
   "outputs": [
    {
     "data": {
      "text/plain": [
       "1"
      ]
     },
     "execution_count": 66,
     "metadata": {},
     "output_type": "execute_result"
    }
   ],
   "source": [
    "len(shipment_data[shipment_data['IMPORT_DWELL']<0])"
   ]
  },
  {
   "cell_type": "code",
   "execution_count": 67,
   "metadata": {},
   "outputs": [],
   "source": [
    "shipment_df = shipment_data[shipment_data['IMPORT_DWELL']>=0].copy()\n",
    "shipment_df.reset_index(drop=True,inplace=True)"
   ]
  },
  {
   "cell_type": "code",
   "execution_count": 68,
   "metadata": {},
   "outputs": [
    {
     "data": {
      "text/plain": [
       "count     993.000000\n",
       "mean      118.070963\n",
       "std        88.173345\n",
       "min         3.766667\n",
       "25%        62.816667\n",
       "50%       104.733333\n",
       "75%       152.316667\n",
       "max      1035.950000\n",
       "Name: IMPORT_DWELL, dtype: float64"
      ]
     },
     "execution_count": 68,
     "metadata": {},
     "output_type": "execute_result"
    }
   ],
   "source": [
    "shipment_df['IMPORT_DWELL'].describe()"
   ]
  },
  {
   "cell_type": "code",
   "execution_count": 69,
   "metadata": {},
   "outputs": [
    {
     "name": "stdout",
     "output_type": "stream",
     "text": [
      "0.7778002023696899 1.164810897965488e-34\n",
      "Statistics=0.778, p=0.000\n",
      "Data does not follow Normal Distribution (Reject H0)\n"
     ]
    }
   ],
   "source": [
    "# Shapiro–Wilk test normality test for subset of dwell\n",
    "stat, p = shapiro(shipment_data['IMPORT_DWELL'])\n",
    "print(stat,p)\n",
    "print('Statistics=%.3f, p=%.3f' % (stat, p))\n",
    "# interpret\n",
    "alpha = 0.05\n",
    "if p > alpha:\n",
    "    print('Data follows Normal Distribution (Accept H0)')\n",
    "else:\n",
    "    print('Data does not follow Normal Distribution (Reject H0)')"
   ]
  },
  {
   "cell_type": "code",
   "execution_count": 70,
   "metadata": {},
   "outputs": [
    {
     "data": {
      "image/png": "[encoded data removed]",
      "text/plain": [
       "<Figure size 640x480 with 1 Axes>"
      ]
     },
     "metadata": {},
     "output_type": "display_data"
    }
   ],
   "source": [
    "sns.histplot(shipment_df['IMPORT_DWELL'],kde = True)\n",
    "plt.show()"
   ]
  },
  {
   "cell_type": "code",
   "execution_count": 71,
   "metadata": {},
   "outputs": [],
   "source": [
    "target_variable = shipment_df[['IMPORT_DWELL']]\n",
    "\n",
    "# Initializing the MinMaxScaler\n",
    "scaler = MinMaxScaler()\n",
    "\n",
    "# Applying Min-Max scaling\n",
    "shipment_df['IMPORT_DWELL_MINMAX'] = scaler.fit_transform(target_variable)"
   ]
  },
  {
   "cell_type": "code",
   "execution_count": 72,
   "metadata": {},
   "outputs": [
    {
     "data": {
      "text/plain": [
       "{'Log': ShapiroResult(statistic=0.9628732204437256, pvalue=3.3227065406548056e-15),\n",
       " 'Square Root': ShapiroResult(statistic=0.9613072872161865, pvalue=1.4711457751534636e-15),\n",
       " 'Box-Cox': ShapiroResult(statistic=0.9858791828155518, pvalue=3.372998591544274e-08),\n",
       " 'Yeo-Johnson': ShapiroResult(statistic=0.9861006140708923, pvalue=4.1915260595715154e-08),\n",
       " 'Min_Max': ShapiroResult(statistic=0.7770376205444336, pvalue=1.085795981454263e-34),\n",
       " 'z_score': ShapiroResult(statistic=0.7770376205444336, pvalue=1.085795981454263e-34)}"
      ]
     },
     "execution_count": 72,
     "metadata": {},
     "output_type": "execute_result"
    }
   ],
   "source": [
    "shipment_df['LOG_TRANSFORM'] = np.log(shipment_df['IMPORT_DWELL'])\n",
    "shipment_df['SQRT_TRANSFORM'] = np.sqrt(shipment_df['IMPORT_DWELL'])\n",
    "shipment_df['IMPORT_DWELL_SCALED'], best_lambda = boxcox(shipment_df['IMPORT_DWELL'])\n",
    "shipment_df['YEOJOHNSON_TRANSFORM'], _ = yeojohnson(shipment_df['IMPORT_DWELL'])\n",
    "shipment_df['Z_Score'] = zscore(shipment_df['IMPORT_DWELL'])\n",
    "\n",
    "\n",
    "# Shapiro-Wilk Test for normality after transformations\n",
    "results = {\n",
    "    'Log': shapiro(shipment_df['LOG_TRANSFORM'].dropna()),\n",
    "    'Square Root': shapiro(shipment_df['SQRT_TRANSFORM'].dropna()),\n",
    "    'Box-Cox': shapiro(shipment_df['IMPORT_DWELL_SCALED'].dropna()),\n",
    "    'Yeo-Johnson': shapiro(shipment_df['YEOJOHNSON_TRANSFORM'].dropna()),\n",
    "    'Min_Max': shapiro(shipment_df['IMPORT_DWELL_MINMAX'].dropna()),\n",
    "    'z_score': shapiro(shipment_df['Z_Score'].dropna())\n",
    "\n",
    "}\n",
    "results"
   ]
  },
  {
   "cell_type": "code",
   "execution_count": 73,
   "metadata": {},
   "outputs": [
    {
     "data": {
      "text/plain": [
       "0.2654931815780767"
      ]
     },
     "execution_count": 73,
     "metadata": {},
     "output_type": "execute_result"
    }
   ],
   "source": [
    "best_lambda"
   ]
  },
  {
   "cell_type": "code",
   "execution_count": 74,
   "metadata": {},
   "outputs": [
    {
     "data": {
      "text/html": [
       "<div>\n",
       "<style scoped>\n",
       "    .dataframe tbody tr th:only-of-type {\n",
       "        vertical-align: middle;\n",
       "    }\n",
       "\n",
       "    .dataframe tbody tr th {\n",
       "        vertical-align: top;\n",
       "    }\n",
       "\n",
       "    .dataframe thead th {\n",
       "        text-align: right;\n",
       "    }\n",
       "</style>\n",
       "<table border=\"1\" class=\"dataframe\">\n",
       "  <thead>\n",
       "    <tr style=\"text-align: right;\">\n",
       "      <th></th>\n",
       "      <th>IMPORT_DWELL</th>\n",
       "      <th>IMPORT_DWELL_SCALED</th>\n",
       "    </tr>\n",
       "  </thead>\n",
       "  <tbody>\n",
       "    <tr>\n",
       "      <th>0</th>\n",
       "      <td>30.683333</td>\n",
       "      <td>5.581219</td>\n",
       "    </tr>\n",
       "    <tr>\n",
       "      <th>1</th>\n",
       "      <td>56.000000</td>\n",
       "      <td>7.200192</td>\n",
       "    </tr>\n",
       "    <tr>\n",
       "      <th>2</th>\n",
       "      <td>92.116667</td>\n",
       "      <td>8.749410</td>\n",
       "    </tr>\n",
       "    <tr>\n",
       "      <th>3</th>\n",
       "      <td>72.983333</td>\n",
       "      <td>7.999180</td>\n",
       "    </tr>\n",
       "    <tr>\n",
       "      <th>4</th>\n",
       "      <td>37.933333</td>\n",
       "      <td>6.122734</td>\n",
       "    </tr>\n",
       "  </tbody>\n",
       "</table>\n",
       "</div>"
      ],
      "text/plain": [
       "   IMPORT_DWELL  IMPORT_DWELL_SCALED\n",
       "0     30.683333             5.581219\n",
       "1     56.000000             7.200192\n",
       "2     92.116667             8.749410\n",
       "3     72.983333             7.999180\n",
       "4     37.933333             6.122734"
      ]
     },
     "execution_count": 74,
     "metadata": {},
     "output_type": "execute_result"
    }
   ],
   "source": [
    "shipment_df[['IMPORT_DWELL', 'IMPORT_DWELL_SCALED']].head()"
   ]
  },
  {
   "cell_type": "code",
   "execution_count": 75,
   "metadata": {},
   "outputs": [
    {
     "data": {
      "image/png": "[encoded data removed]",
      "text/plain": [
       "<Figure size 1000x600 with 1 Axes>"
      ]
     },
     "metadata": {},
     "output_type": "display_data"
    }
   ],
   "source": [
    "plt.figure(figsize=(10, 6))\n",
    "sns.histplot(shipment_df['IMPORT_DWELL_SCALED'], kde=True, bins=30)\n",
    "plt.title('Distribution of Box-Cox Normalized IMPORT_DWELL')\n",
    "plt.xlabel('Box-Cox Normalized IMPORT_DWELL')\n",
    "plt.ylabel('Frequency')\n",
    "plt.show()"
   ]
  },
  {
   "cell_type": "code",
   "execution_count": 76,
   "metadata": {},
   "outputs": [
    {
     "data": {
      "text/plain": [
       "count    993.000000\n",
       "mean       8.999691\n",
       "std        2.412559\n",
       "min        1.589656\n",
       "25%        7.539796\n",
       "50%        9.183295\n",
       "75%       10.537217\n",
       "max       20.029127\n",
       "Name: IMPORT_DWELL_SCALED, dtype: float64"
      ]
     },
     "execution_count": 76,
     "metadata": {},
     "output_type": "execute_result"
    }
   ],
   "source": [
    "shipment_df['IMPORT_DWELL_SCALED'].describe()"
   ]
  },
  {
   "cell_type": "code",
   "execution_count": 77,
   "metadata": {},
   "outputs": [
    {
     "name": "stdout",
     "output_type": "stream",
     "text": [
      "Stats= 0.9858791828155518 P_Value= 3.372998591544274e-08\n",
      "Data does not follow Normal Distribution (Reject H0)\n"
     ]
    }
   ],
   "source": [
    "# Shapiro–Wilk test normality test for subset of dwell\n",
    "stat, p = shapiro(shipment_df['IMPORT_DWELL_SCALED'])\n",
    "print(\"Stats=\",stat,\"P_Value=\",p)\n",
    "# interpret\n",
    "alpha = 0.05\n",
    "if p > alpha:\n",
    "    print('Data follows Normal Distribution (Accept H0)')\n",
    "else:\n",
    "    print('Data does not follow Normal Distribution (Reject H0)')"
   ]
  },
  {
   "cell_type": "code",
   "execution_count": 78,
   "metadata": {},
   "outputs": [
    {
     "data": {
      "text/plain": [
       "array([nan, 'KG'], dtype=object)"
      ]
     },
     "execution_count": 78,
     "metadata": {},
     "output_type": "execute_result"
    }
   ],
   "source": [
    "shipment_df['weight_uom'].unique()"
   ]
  },
  {
   "cell_type": "code",
   "execution_count": 79,
   "metadata": {},
   "outputs": [
    {
     "data": {
      "text/plain": [
       "array(['N', nan], dtype=object)"
      ]
     },
     "execution_count": 79,
     "metadata": {},
     "output_type": "execute_result"
    }
   ],
   "source": [
    "shipment_df['HAZMAT'].unique()"
   ]
  },
  {
   "cell_type": "code",
   "execution_count": 80,
   "metadata": {},
   "outputs": [],
   "source": [
    "shipment_df['HAZMAT'] = shipment_df['HAZMAT'].apply(lambda x: 0 if x == 'N' else 1)"
   ]
  },
  {
   "cell_type": "code",
   "execution_count": 81,
   "metadata": {},
   "outputs": [
    {
     "data": {
      "text/plain": [
       "0    791\n",
       "1    202\n",
       "Name: HAZMAT, dtype: int64"
      ]
     },
     "execution_count": 81,
     "metadata": {},
     "output_type": "execute_result"
    }
   ],
   "source": [
    "shipment_df['HAZMAT'].value_counts()"
   ]
  },
  {
   "cell_type": "code",
   "execution_count": 82,
   "metadata": {},
   "outputs": [
    {
     "name": "stderr",
     "output_type": "stream",
     "text": [
      "C:\\Users\\sneha.priya\\AppData\\Local\\Temp\\ipykernel_21272\\402351969.py:2: FutureWarning: \n",
      "\n",
      "Passing `palette` without assigning `hue` is deprecated and will be removed in v0.14.0. Assign the `x` variable to `hue` and set `legend=False` for the same effect.\n",
      "\n",
      "  sns.boxplot(x='HAZMAT', y='IMPORT_DWELL_SCALED', data=shipment_df,palette='Set2')\n"
     ]
    },
    {
     "data": {
      "image/png": "[encoded data removed]",
      "text/plain": [
       "<Figure size 1200x600 with 1 Axes>"
      ]
     },
     "metadata": {},
     "output_type": "display_data"
    }
   ],
   "source": [
    "plt.figure(figsize=(12, 6))\n",
    "sns.boxplot(x='HAZMAT', y='IMPORT_DWELL_SCALED', data=shipment_df,palette='Set2')\n",
    "plt.show()"
   ]
  },
  {
   "cell_type": "code",
   "execution_count": 83,
   "metadata": {},
   "outputs": [
    {
     "name": "stdout",
     "output_type": "stream",
     "text": [
      "Mann-Whitney U test statistic: 72135.5\n",
      "P-value: 0.03303581647036623\n",
      "We reject the null hypothesis; there is a statistically significant difference in import dwell times between the two groups.\n"
     ]
    }
   ],
   "source": [
    "group1 = shipment_df[shipment_df['HAZMAT'] == 0]['IMPORT_DWELL_SCALED']\n",
    "group2 = shipment_df[shipment_df['HAZMAT'] == 1]['IMPORT_DWELL_SCALED']\n",
    "\n",
    "stat, p = mannwhitneyu(group1, group2, alternative='two-sided')\n",
    "\n",
    "print(f'Mann-Whitney U test statistic: {stat}')\n",
    "print(f'P-value: {p}')\n",
    "p_value = 0.05\n",
    "if p<p_value:\n",
    "    print(\"We reject the null hypothesis; there is a statistically significant difference in import dwell times between the two groups.\")\n",
    "else: \n",
    "    print(\"We accept the null hypothesis\")"
   ]
  },
  {
   "cell_type": "code",
   "execution_count": 84,
   "metadata": {},
   "outputs": [
    {
     "data": {
      "text/plain": [
       "0      5.581219\n",
       "1      7.200192\n",
       "2      8.749410\n",
       "3      7.999180\n",
       "4      6.122734\n",
       "         ...   \n",
       "988    6.836331\n",
       "989    6.153746\n",
       "990    7.505405\n",
       "991    4.624793\n",
       "992    4.509972\n",
       "Name: IMPORT_DWELL_SCALED, Length: 791, dtype: float64"
      ]
     },
     "execution_count": 84,
     "metadata": {},
     "output_type": "execute_result"
    }
   ],
   "source": [
    "group1"
   ]
  },
  {
   "cell_type": "code",
   "execution_count": 85,
   "metadata": {},
   "outputs": [
    {
     "data": {
      "text/plain": [
       "Index(['SHIPMENTID', 'VESSEL', 'IMO', 'VOYAGE#', 'ORIGIN_PORT',\n",
       "       'DESTINATION_PORT', 'ARRIVAL_TIME', 'GATEOUT_TIME', 'EQUIPMENTTYPECODE',\n",
       "       'HAZMAT', 'GROSS_WEIGHT', 'weight_uom', 'IMPORT_DWELL',\n",
       "       'IMPORT_DWELL_MINMAX', 'LOG_TRANSFORM', 'SQRT_TRANSFORM',\n",
       "       'IMPORT_DWELL_SCALED', 'YEOJOHNSON_TRANSFORM', 'Z_Score'],\n",
       "      dtype='object')"
      ]
     },
     "execution_count": 85,
     "metadata": {},
     "output_type": "execute_result"
    }
   ],
   "source": [
    "shipment_df.columns"
   ]
  },
  {
   "cell_type": "code",
   "execution_count": 86,
   "metadata": {},
   "outputs": [],
   "source": [
    "shipment_df.drop(['weight_uom'],axis=1,inplace=True)"
   ]
  },
  {
   "cell_type": "code",
   "execution_count": 87,
   "metadata": {},
   "outputs": [
    {
     "data": {
      "text/plain": [
       "4"
      ]
     },
     "execution_count": 87,
     "metadata": {},
     "output_type": "execute_result"
    }
   ],
   "source": [
    "shipment_df['EQUIPMENTTYPECODE'].isna().sum()"
   ]
  },
  {
   "cell_type": "code",
   "execution_count": 88,
   "metadata": {},
   "outputs": [],
   "source": [
    "shipment_df = shipment_df.dropna(subset=['EQUIPMENTTYPECODE'])"
   ]
  },
  {
   "cell_type": "code",
   "execution_count": 89,
   "metadata": {},
   "outputs": [
    {
     "data": {
      "text/plain": [
       "0"
      ]
     },
     "execution_count": 89,
     "metadata": {},
     "output_type": "execute_result"
    }
   ],
   "source": [
    "shipment_df['EQUIPMENTTYPECODE'].isna().sum()"
   ]
  },
  {
   "cell_type": "code",
   "execution_count": 90,
   "metadata": {},
   "outputs": [],
   "source": [
    "shipment_df.drop(['GROSS_WEIGHT'],axis=1,inplace=True)"
   ]
  },
  {
   "cell_type": "code",
   "execution_count": 91,
   "metadata": {},
   "outputs": [],
   "source": [
    "shipment_df['20_ft'] = shipment_df['EQUIPMENTTYPECODE'].apply(lambda x: 1 if x.startswith('2') else 0)\n",
    "shipment_df['40_ft'] = shipment_df['EQUIPMENTTYPECODE'].apply(lambda x: 1 if x.startswith('4') else 0)\n",
    "shipment_df['RF'] = shipment_df['EQUIPMENTTYPECODE'].str.contains('RF').astype(int)"
   ]
  },
  {
   "cell_type": "code",
   "execution_count": 92,
   "metadata": {},
   "outputs": [
    {
     "data": {
      "image/png": "[encoded data removed]",
      "text/plain": [
       "<Figure size 1000x600 with 1 Axes>"
      ]
     },
     "metadata": {},
     "output_type": "display_data"
    }
   ],
   "source": [
    "shipment_df['Container_Category'] = shipment_df.apply(lambda x: 'UCU' if x['EQUIPMENTTYPECODE'] == 'UCU' else \n",
    "                                               ('LCL' if x['EQUIPMENTTYPECODE'] == 'LCL' else\n",
    "                                                ('20_ft' if x['20_ft'] == 1 else '40_ft')), axis=1)\n",
    "\n",
    "# Selecting only the relevant rows for comparison (ignoring rows that do not fall into the specific categories)\n",
    "relevant_categories = ['UCU', 'LCL', '20_ft', '40_ft']\n",
    "df_filtered = shipment_df[shipment_df['Container_Category'].isin(relevant_categories)]\n",
    "\n",
    "# Plotting box plots for 'IMPORT_DWELL' across the filtered categories\n",
    "plt.figure(figsize=(10, 6))\n",
    "sns.boxplot(data=df_filtered, x='Container_Category', y='IMPORT_DWELL', order=['UCU', 'LCL', '20_ft', '40_ft'])\n",
    "plt.title('Import Dwell Time by Container Category')\n",
    "plt.xlabel('Category')\n",
    "plt.ylabel('Import Dwell Time (Days)')\n",
    "plt.show()"
   ]
  },
  {
   "cell_type": "code",
   "execution_count": 93,
   "metadata": {},
   "outputs": [
    {
     "name": "stderr",
     "output_type": "stream",
     "text": [
      "C:\\Users\\sneha.priya\\AppData\\Local\\Temp\\ipykernel_21272\\2786464653.py:14: UserWarning: FixedFormatter should only be used together with FixedLocator\n",
      "  ax1.set_xticklabels(ax1.get_xticklabels(), rotation=90)\n"
     ]
    },
    {
     "data": {
      "image/png": "[encoded data removed]",
      "text/plain": [
       "<Figure size 1200x600 with 2 Axes>"
      ]
     },
     "metadata": {},
     "output_type": "display_data"
    }
   ],
   "source": [
    "# Calculate median and count for each 'EQUIPMENTTYPECODE'\n",
    "container_category_stats = shipment_df.groupby('Container_Category')['IMPORT_DWELL_SCALED'].agg(['median', 'count']).reset_index()\n",
    "# Sort the dataframe based on count to have a better visualization\n",
    "container_category_stats = container_category_stats.sort_values(by='count', ascending=False)\n",
    "\n",
    "# Plotting the medians and counts\n",
    "fig, ax1 = plt.subplots(figsize=(12, 6))\n",
    "\n",
    "# Bar plot for counts\n",
    "count_plot = sns.barplot(x='Container_Category', y='count', data=container_category_stats, color='lightblue', ax=ax1)\n",
    "ax1.set_xlabel('Container Category')\n",
    "ax1.set_ylabel('Count')\n",
    "ax1.tick_params(axis='y')\n",
    "ax1.set_xticklabels(ax1.get_xticklabels(), rotation=90)\n",
    "\n",
    "# Creating a secondary y-axis for median dwell times\n",
    "ax2 = ax1.twinx()\n",
    "\n",
    "# Line plot for medians\n",
    "median_plot = sns.lineplot(x='Container_Category', y='median', data=container_category_stats, sort=False, marker='o', ax=ax2, color='red')\n",
    "ax2.set_ylabel('Median IMPORT_DWELL')\n",
    "\n",
    "# Show the plot\n",
    "plt.show()"
   ]
  },
  {
   "cell_type": "code",
   "execution_count": 94,
   "metadata": {},
   "outputs": [],
   "source": [
    "# Remove rows where 'EQUIPMENTTYPECODE' is 'LCL'\n",
    "shipment_df = shipment_df[shipment_df['EQUIPMENTTYPECODE'] != 'LCL']\n",
    "\n",
    "# If 'Container_Category' column exists and needs to be updated without 'LCL'\n",
    "if 'Container_Category' in shipment_df.columns:\n",
    "    # Update 'Container_Category' column, setting 'UCU' to '20_ft'\n",
    "    shipment_df.loc[shipment_df['EQUIPMENTTYPECODE'] == 'UCU', 'Container_Category'] = '20_ft'\n"
   ]
  },
  {
   "cell_type": "code",
   "execution_count": 95,
   "metadata": {},
   "outputs": [],
   "source": [
    "shipment_df['Container_Size'] = shipment_df['40_ft'].apply(lambda x: 1 if x == 1 else 0)\n"
   ]
  },
  {
   "cell_type": "code",
   "execution_count": 96,
   "metadata": {},
   "outputs": [],
   "source": [
    "shipment_df.drop(['20_ft', '40_ft'], axis=1, inplace=True)"
   ]
  },
  {
   "cell_type": "code",
   "execution_count": 97,
   "metadata": {},
   "outputs": [
    {
     "data": {
      "text/html": [
       "<div>\n",
       "<style scoped>\n",
       "    .dataframe tbody tr th:only-of-type {\n",
       "        vertical-align: middle;\n",
       "    }\n",
       "\n",
       "    .dataframe tbody tr th {\n",
       "        vertical-align: top;\n",
       "    }\n",
       "\n",
       "    .dataframe thead th {\n",
       "        text-align: right;\n",
       "    }\n",
       "</style>\n",
       "<table border=\"1\" class=\"dataframe\">\n",
       "  <thead>\n",
       "    <tr style=\"text-align: right;\">\n",
       "      <th></th>\n",
       "      <th>SHIPMENTID</th>\n",
       "      <th>VESSEL</th>\n",
       "      <th>IMO</th>\n",
       "      <th>VOYAGE#</th>\n",
       "      <th>ORIGIN_PORT</th>\n",
       "      <th>DESTINATION_PORT</th>\n",
       "      <th>ARRIVAL_TIME</th>\n",
       "      <th>GATEOUT_TIME</th>\n",
       "      <th>EQUIPMENTTYPECODE</th>\n",
       "      <th>HAZMAT</th>\n",
       "      <th>IMPORT_DWELL</th>\n",
       "      <th>IMPORT_DWELL_MINMAX</th>\n",
       "      <th>LOG_TRANSFORM</th>\n",
       "      <th>SQRT_TRANSFORM</th>\n",
       "      <th>IMPORT_DWELL_SCALED</th>\n",
       "      <th>YEOJOHNSON_TRANSFORM</th>\n",
       "      <th>Z_Score</th>\n",
       "      <th>RF</th>\n",
       "      <th>Container_Category</th>\n",
       "      <th>Container_Size</th>\n",
       "    </tr>\n",
       "  </thead>\n",
       "  <tbody>\n",
       "    <tr>\n",
       "      <th>0</th>\n",
       "      <td>1</td>\n",
       "      <td>BELLAVIA</td>\n",
       "      <td>9290440</td>\n",
       "      <td>003E</td>\n",
       "      <td>NAGOYA</td>\n",
       "      <td>TACOMA</td>\n",
       "      <td>2019-08-28 06:30:00</td>\n",
       "      <td>2019-08-29 13:11:00</td>\n",
       "      <td>UCU</td>\n",
       "      <td>0</td>\n",
       "      <td>30.683333</td>\n",
       "      <td>0.026077</td>\n",
       "      <td>3.423720</td>\n",
       "      <td>5.539254</td>\n",
       "      <td>5.581219</td>\n",
       "      <td>5.527924</td>\n",
       "      <td>-0.991588</td>\n",
       "      <td>0</td>\n",
       "      <td>20_ft</td>\n",
       "      <td>0</td>\n",
       "    </tr>\n",
       "    <tr>\n",
       "      <th>1</th>\n",
       "      <td>13</td>\n",
       "      <td>BELLAVIA</td>\n",
       "      <td>9290440</td>\n",
       "      <td>003E</td>\n",
       "      <td>TOKYO</td>\n",
       "      <td>TACOMA</td>\n",
       "      <td>2019-08-28 06:30:00</td>\n",
       "      <td>2019-08-30 14:30:00</td>\n",
       "      <td>UCU</td>\n",
       "      <td>0</td>\n",
       "      <td>56.000000</td>\n",
       "      <td>0.050605</td>\n",
       "      <td>4.025352</td>\n",
       "      <td>7.483315</td>\n",
       "      <td>7.200192</td>\n",
       "      <td>7.048436</td>\n",
       "      <td>-0.704320</td>\n",
       "      <td>0</td>\n",
       "      <td>20_ft</td>\n",
       "      <td>0</td>\n",
       "    </tr>\n",
       "    <tr>\n",
       "      <th>2</th>\n",
       "      <td>1079</td>\n",
       "      <td>SOUTHAMPTON EXPRESS</td>\n",
       "      <td>9447885</td>\n",
       "      <td>002E</td>\n",
       "      <td>HONG KONG</td>\n",
       "      <td>NEW YORK</td>\n",
       "      <td>2019-09-22 10:48:00</td>\n",
       "      <td>2019-09-26 06:55:00</td>\n",
       "      <td>UCU</td>\n",
       "      <td>0</td>\n",
       "      <td>92.116667</td>\n",
       "      <td>0.085595</td>\n",
       "      <td>4.523056</td>\n",
       "      <td>9.597743</td>\n",
       "      <td>8.749410</td>\n",
       "      <td>8.504848</td>\n",
       "      <td>-0.294504</td>\n",
       "      <td>0</td>\n",
       "      <td>20_ft</td>\n",
       "      <td>0</td>\n",
       "    </tr>\n",
       "    <tr>\n",
       "      <th>3</th>\n",
       "      <td>1080</td>\n",
       "      <td>SOUTHAMPTON EXPRESS</td>\n",
       "      <td>9447885</td>\n",
       "      <td>002E</td>\n",
       "      <td>HONG KONG</td>\n",
       "      <td>NEW YORK</td>\n",
       "      <td>2019-09-22 10:48:00</td>\n",
       "      <td>2019-09-25 11:47:00</td>\n",
       "      <td>UCU</td>\n",
       "      <td>0</td>\n",
       "      <td>72.983333</td>\n",
       "      <td>0.067059</td>\n",
       "      <td>4.290231</td>\n",
       "      <td>8.543028</td>\n",
       "      <td>7.999180</td>\n",
       "      <td>7.799721</td>\n",
       "      <td>-0.511610</td>\n",
       "      <td>0</td>\n",
       "      <td>20_ft</td>\n",
       "      <td>0</td>\n",
       "    </tr>\n",
       "    <tr>\n",
       "      <th>4</th>\n",
       "      <td>1149</td>\n",
       "      <td>MOL MOTIVATOR</td>\n",
       "      <td>9475624</td>\n",
       "      <td>048E</td>\n",
       "      <td>SHANGHAI</td>\n",
       "      <td>CHARLESTON</td>\n",
       "      <td>2019-09-24 02:25:00</td>\n",
       "      <td>2019-09-25 16:21:00</td>\n",
       "      <td>UCU</td>\n",
       "      <td>0</td>\n",
       "      <td>37.933333</td>\n",
       "      <td>0.033101</td>\n",
       "      <td>3.635830</td>\n",
       "      <td>6.159004</td>\n",
       "      <td>6.122734</td>\n",
       "      <td>6.035871</td>\n",
       "      <td>-0.909323</td>\n",
       "      <td>0</td>\n",
       "      <td>20_ft</td>\n",
       "      <td>0</td>\n",
       "    </tr>\n",
       "  </tbody>\n",
       "</table>\n",
       "</div>"
      ],
      "text/plain": [
       "   SHIPMENTID               VESSEL      IMO VOYAGE# ORIGIN_PORT  \\\n",
       "0           1             BELLAVIA  9290440    003E      NAGOYA   \n",
       "1          13             BELLAVIA  9290440    003E       TOKYO   \n",
       "2        1079  SOUTHAMPTON EXPRESS  9447885    002E   HONG KONG   \n",
       "3        1080  SOUTHAMPTON EXPRESS  9447885    002E   HONG KONG   \n",
       "4        1149        MOL MOTIVATOR  9475624    048E    SHANGHAI   \n",
       "\n",
       "  DESTINATION_PORT        ARRIVAL_TIME        GATEOUT_TIME EQUIPMENTTYPECODE  \\\n",
       "0           TACOMA 2019-08-28 06:30:00 2019-08-29 13:11:00               UCU   \n",
       "1           TACOMA 2019-08-28 06:30:00 2019-08-30 14:30:00               UCU   \n",
       "2         NEW YORK 2019-09-22 10:48:00 2019-09-26 06:55:00               UCU   \n",
       "3         NEW YORK 2019-09-22 10:48:00 2019-09-25 11:47:00               UCU   \n",
       "4       CHARLESTON 2019-09-24 02:25:00 2019-09-25 16:21:00               UCU   \n",
       "\n",
       "   HAZMAT  IMPORT_DWELL  IMPORT_DWELL_MINMAX  LOG_TRANSFORM  SQRT_TRANSFORM  \\\n",
       "0       0     30.683333             0.026077       3.423720        5.539254   \n",
       "1       0     56.000000             0.050605       4.025352        7.483315   \n",
       "2       0     92.116667             0.085595       4.523056        9.597743   \n",
       "3       0     72.983333             0.067059       4.290231        8.543028   \n",
       "4       0     37.933333             0.033101       3.635830        6.159004   \n",
       "\n",
       "   IMPORT_DWELL_SCALED  YEOJOHNSON_TRANSFORM   Z_Score  RF Container_Category  \\\n",
       "0             5.581219              5.527924 -0.991588   0              20_ft   \n",
       "1             7.200192              7.048436 -0.704320   0              20_ft   \n",
       "2             8.749410              8.504848 -0.294504   0              20_ft   \n",
       "3             7.999180              7.799721 -0.511610   0              20_ft   \n",
       "4             6.122734              6.035871 -0.909323   0              20_ft   \n",
       "\n",
       "   Container_Size  \n",
       "0               0  \n",
       "1               0  \n",
       "2               0  \n",
       "3               0  \n",
       "4               0  "
      ]
     },
     "execution_count": 97,
     "metadata": {},
     "output_type": "execute_result"
    }
   ],
   "source": [
    "shipment_df.head()"
   ]
  },
  {
   "cell_type": "code",
   "execution_count": 98,
   "metadata": {},
   "outputs": [
    {
     "data": {
      "text/html": [
       "<div>\n",
       "<style scoped>\n",
       "    .dataframe tbody tr th:only-of-type {\n",
       "        vertical-align: middle;\n",
       "    }\n",
       "\n",
       "    .dataframe tbody tr th {\n",
       "        vertical-align: top;\n",
       "    }\n",
       "\n",
       "    .dataframe thead th {\n",
       "        text-align: right;\n",
       "    }\n",
       "</style>\n",
       "<table border=\"1\" class=\"dataframe\">\n",
       "  <thead>\n",
       "    <tr style=\"text-align: right;\">\n",
       "      <th></th>\n",
       "      <th>count</th>\n",
       "      <th>mean</th>\n",
       "      <th>std</th>\n",
       "      <th>min</th>\n",
       "      <th>25%</th>\n",
       "      <th>50%</th>\n",
       "      <th>75%</th>\n",
       "      <th>max</th>\n",
       "    </tr>\n",
       "    <tr>\n",
       "      <th>Container_Size</th>\n",
       "      <th></th>\n",
       "      <th></th>\n",
       "      <th></th>\n",
       "      <th></th>\n",
       "      <th></th>\n",
       "      <th></th>\n",
       "      <th></th>\n",
       "      <th></th>\n",
       "    </tr>\n",
       "  </thead>\n",
       "  <tbody>\n",
       "    <tr>\n",
       "      <th>0</th>\n",
       "      <td>247.0</td>\n",
       "      <td>8.560096</td>\n",
       "      <td>2.050457</td>\n",
       "      <td>2.499161</td>\n",
       "      <td>7.149829</td>\n",
       "      <td>8.976328</td>\n",
       "      <td>10.238879</td>\n",
       "      <td>13.939709</td>\n",
       "    </tr>\n",
       "    <tr>\n",
       "      <th>1</th>\n",
       "      <td>735.0</td>\n",
       "      <td>9.193278</td>\n",
       "      <td>2.475036</td>\n",
       "      <td>1.589656</td>\n",
       "      <td>7.659102</td>\n",
       "      <td>9.308009</td>\n",
       "      <td>10.744716</td>\n",
       "      <td>20.029127</td>\n",
       "    </tr>\n",
       "  </tbody>\n",
       "</table>\n",
       "</div>"
      ],
      "text/plain": [
       "                count      mean       std       min       25%       50%  \\\n",
       "Container_Size                                                            \n",
       "0               247.0  8.560096  2.050457  2.499161  7.149829  8.976328   \n",
       "1               735.0  9.193278  2.475036  1.589656  7.659102  9.308009   \n",
       "\n",
       "                      75%        max  \n",
       "Container_Size                        \n",
       "0               10.238879  13.939709  \n",
       "1               10.744716  20.029127  "
      ]
     },
     "execution_count": 98,
     "metadata": {},
     "output_type": "execute_result"
    }
   ],
   "source": [
    "shipment_df.groupby('Container_Size')['IMPORT_DWELL_SCALED'].describe()"
   ]
  },
  {
   "cell_type": "code",
   "execution_count": 99,
   "metadata": {},
   "outputs": [
    {
     "name": "stdout",
     "output_type": "stream",
     "text": [
      "Mann-Whitney U statistic: 77795.5, P-value: 0.0007655580490759269\n"
     ]
    }
   ],
   "source": [
    "dwell_20_ft = shipment_df[shipment_df['Container_Size'] == 0]['IMPORT_DWELL_SCALED']\n",
    "dwell_40_ft = shipment_df[shipment_df['Container_Size'] == 1]['IMPORT_DWELL_SCALED']\n",
    "\n",
    "# Perform Mann-Whitney U test\n",
    "u_stat, p_val = mannwhitneyu(dwell_20_ft, dwell_40_ft)\n",
    "print(f'Mann-Whitney U statistic: {u_stat}, P-value: {p_val}')"
   ]
  },
  {
   "cell_type": "code",
   "execution_count": 100,
   "metadata": {},
   "outputs": [
    {
     "data": {
      "text/html": [
       "<div>\n",
       "<style scoped>\n",
       "    .dataframe tbody tr th:only-of-type {\n",
       "        vertical-align: middle;\n",
       "    }\n",
       "\n",
       "    .dataframe tbody tr th {\n",
       "        vertical-align: top;\n",
       "    }\n",
       "\n",
       "    .dataframe thead th {\n",
       "        text-align: right;\n",
       "    }\n",
       "</style>\n",
       "<table border=\"1\" class=\"dataframe\">\n",
       "  <thead>\n",
       "    <tr style=\"text-align: right;\">\n",
       "      <th></th>\n",
       "      <th>SHIPMENTID</th>\n",
       "      <th>VESSEL</th>\n",
       "      <th>IMO</th>\n",
       "      <th>VOYAGE#</th>\n",
       "      <th>ORIGIN_PORT</th>\n",
       "      <th>DESTINATION_PORT</th>\n",
       "      <th>ARRIVAL_TIME</th>\n",
       "      <th>GATEOUT_TIME</th>\n",
       "      <th>EQUIPMENTTYPECODE</th>\n",
       "      <th>HAZMAT</th>\n",
       "      <th>IMPORT_DWELL</th>\n",
       "      <th>IMPORT_DWELL_MINMAX</th>\n",
       "      <th>LOG_TRANSFORM</th>\n",
       "      <th>SQRT_TRANSFORM</th>\n",
       "      <th>IMPORT_DWELL_SCALED</th>\n",
       "      <th>YEOJOHNSON_TRANSFORM</th>\n",
       "      <th>Z_Score</th>\n",
       "      <th>RF</th>\n",
       "      <th>Container_Category</th>\n",
       "      <th>Container_Size</th>\n",
       "    </tr>\n",
       "  </thead>\n",
       "  <tbody>\n",
       "    <tr>\n",
       "      <th>0</th>\n",
       "      <td>1</td>\n",
       "      <td>BELLAVIA</td>\n",
       "      <td>9290440</td>\n",
       "      <td>003E</td>\n",
       "      <td>NAGOYA</td>\n",
       "      <td>TACOMA</td>\n",
       "      <td>2019-08-28 06:30:00</td>\n",
       "      <td>2019-08-29 13:11:00</td>\n",
       "      <td>UCU</td>\n",
       "      <td>0</td>\n",
       "      <td>30.683333</td>\n",
       "      <td>0.026077</td>\n",
       "      <td>3.423720</td>\n",
       "      <td>5.539254</td>\n",
       "      <td>5.581219</td>\n",
       "      <td>5.527924</td>\n",
       "      <td>-0.991588</td>\n",
       "      <td>0</td>\n",
       "      <td>20_ft</td>\n",
       "      <td>0</td>\n",
       "    </tr>\n",
       "    <tr>\n",
       "      <th>1</th>\n",
       "      <td>13</td>\n",
       "      <td>BELLAVIA</td>\n",
       "      <td>9290440</td>\n",
       "      <td>003E</td>\n",
       "      <td>TOKYO</td>\n",
       "      <td>TACOMA</td>\n",
       "      <td>2019-08-28 06:30:00</td>\n",
       "      <td>2019-08-30 14:30:00</td>\n",
       "      <td>UCU</td>\n",
       "      <td>0</td>\n",
       "      <td>56.000000</td>\n",
       "      <td>0.050605</td>\n",
       "      <td>4.025352</td>\n",
       "      <td>7.483315</td>\n",
       "      <td>7.200192</td>\n",
       "      <td>7.048436</td>\n",
       "      <td>-0.704320</td>\n",
       "      <td>0</td>\n",
       "      <td>20_ft</td>\n",
       "      <td>0</td>\n",
       "    </tr>\n",
       "    <tr>\n",
       "      <th>2</th>\n",
       "      <td>1079</td>\n",
       "      <td>SOUTHAMPTON EXPRESS</td>\n",
       "      <td>9447885</td>\n",
       "      <td>002E</td>\n",
       "      <td>HONG KONG</td>\n",
       "      <td>NEW YORK</td>\n",
       "      <td>2019-09-22 10:48:00</td>\n",
       "      <td>2019-09-26 06:55:00</td>\n",
       "      <td>UCU</td>\n",
       "      <td>0</td>\n",
       "      <td>92.116667</td>\n",
       "      <td>0.085595</td>\n",
       "      <td>4.523056</td>\n",
       "      <td>9.597743</td>\n",
       "      <td>8.749410</td>\n",
       "      <td>8.504848</td>\n",
       "      <td>-0.294504</td>\n",
       "      <td>0</td>\n",
       "      <td>20_ft</td>\n",
       "      <td>0</td>\n",
       "    </tr>\n",
       "    <tr>\n",
       "      <th>3</th>\n",
       "      <td>1080</td>\n",
       "      <td>SOUTHAMPTON EXPRESS</td>\n",
       "      <td>9447885</td>\n",
       "      <td>002E</td>\n",
       "      <td>HONG KONG</td>\n",
       "      <td>NEW YORK</td>\n",
       "      <td>2019-09-22 10:48:00</td>\n",
       "      <td>2019-09-25 11:47:00</td>\n",
       "      <td>UCU</td>\n",
       "      <td>0</td>\n",
       "      <td>72.983333</td>\n",
       "      <td>0.067059</td>\n",
       "      <td>4.290231</td>\n",
       "      <td>8.543028</td>\n",
       "      <td>7.999180</td>\n",
       "      <td>7.799721</td>\n",
       "      <td>-0.511610</td>\n",
       "      <td>0</td>\n",
       "      <td>20_ft</td>\n",
       "      <td>0</td>\n",
       "    </tr>\n",
       "    <tr>\n",
       "      <th>4</th>\n",
       "      <td>1149</td>\n",
       "      <td>MOL MOTIVATOR</td>\n",
       "      <td>9475624</td>\n",
       "      <td>048E</td>\n",
       "      <td>SHANGHAI</td>\n",
       "      <td>CHARLESTON</td>\n",
       "      <td>2019-09-24 02:25:00</td>\n",
       "      <td>2019-09-25 16:21:00</td>\n",
       "      <td>UCU</td>\n",
       "      <td>0</td>\n",
       "      <td>37.933333</td>\n",
       "      <td>0.033101</td>\n",
       "      <td>3.635830</td>\n",
       "      <td>6.159004</td>\n",
       "      <td>6.122734</td>\n",
       "      <td>6.035871</td>\n",
       "      <td>-0.909323</td>\n",
       "      <td>0</td>\n",
       "      <td>20_ft</td>\n",
       "      <td>0</td>\n",
       "    </tr>\n",
       "  </tbody>\n",
       "</table>\n",
       "</div>"
      ],
      "text/plain": [
       "   SHIPMENTID               VESSEL      IMO VOYAGE# ORIGIN_PORT  \\\n",
       "0           1             BELLAVIA  9290440    003E      NAGOYA   \n",
       "1          13             BELLAVIA  9290440    003E       TOKYO   \n",
       "2        1079  SOUTHAMPTON EXPRESS  9447885    002E   HONG KONG   \n",
       "3        1080  SOUTHAMPTON EXPRESS  9447885    002E   HONG KONG   \n",
       "4        1149        MOL MOTIVATOR  9475624    048E    SHANGHAI   \n",
       "\n",
       "  DESTINATION_PORT        ARRIVAL_TIME        GATEOUT_TIME EQUIPMENTTYPECODE  \\\n",
       "0           TACOMA 2019-08-28 06:30:00 2019-08-29 13:11:00               UCU   \n",
       "1           TACOMA 2019-08-28 06:30:00 2019-08-30 14:30:00               UCU   \n",
       "2         NEW YORK 2019-09-22 10:48:00 2019-09-26 06:55:00               UCU   \n",
       "3         NEW YORK 2019-09-22 10:48:00 2019-09-25 11:47:00               UCU   \n",
       "4       CHARLESTON 2019-09-24 02:25:00 2019-09-25 16:21:00               UCU   \n",
       "\n",
       "   HAZMAT  IMPORT_DWELL  IMPORT_DWELL_MINMAX  LOG_TRANSFORM  SQRT_TRANSFORM  \\\n",
       "0       0     30.683333             0.026077       3.423720        5.539254   \n",
       "1       0     56.000000             0.050605       4.025352        7.483315   \n",
       "2       0     92.116667             0.085595       4.523056        9.597743   \n",
       "3       0     72.983333             0.067059       4.290231        8.543028   \n",
       "4       0     37.933333             0.033101       3.635830        6.159004   \n",
       "\n",
       "   IMPORT_DWELL_SCALED  YEOJOHNSON_TRANSFORM   Z_Score  RF Container_Category  \\\n",
       "0             5.581219              5.527924 -0.991588   0              20_ft   \n",
       "1             7.200192              7.048436 -0.704320   0              20_ft   \n",
       "2             8.749410              8.504848 -0.294504   0              20_ft   \n",
       "3             7.999180              7.799721 -0.511610   0              20_ft   \n",
       "4             6.122734              6.035871 -0.909323   0              20_ft   \n",
       "\n",
       "   Container_Size  \n",
       "0               0  \n",
       "1               0  \n",
       "2               0  \n",
       "3               0  \n",
       "4               0  "
      ]
     },
     "execution_count": 100,
     "metadata": {},
     "output_type": "execute_result"
    }
   ],
   "source": [
    "shipment_df.head()"
   ]
  },
  {
   "cell_type": "code",
   "execution_count": 101,
   "metadata": {},
   "outputs": [],
   "source": [
    "shipment_df['ARRIVAL_DAY_OF_WEEK'] = shipment_df['ARRIVAL_TIME'].dt.dayofweek"
   ]
  },
  {
   "cell_type": "code",
   "execution_count": 102,
   "metadata": {},
   "outputs": [],
   "source": [
    "shipment_df['IS_WEEKEND'] = shipment_df['ARRIVAL_DAY_OF_WEEK'].apply(lambda x: 1 if x >= 5 else 0)"
   ]
  },
  {
   "cell_type": "code",
   "execution_count": 103,
   "metadata": {},
   "outputs": [
    {
     "data": {
      "image/png": "[encoded data removed]",
      "text/plain": [
       "<Figure size 1400x700 with 1 Axes>"
      ]
     },
     "metadata": {},
     "output_type": "display_data"
    }
   ],
   "source": [
    "plt.figure(figsize=(14, 7))\n",
    "sns.boxplot(x='IS_WEEKEND', y='IMPORT_DWELL_SCALED', data=shipment_df)\n",
    "plt.title('Import Dwell Time by Weekend vs. Weekday')\n",
    "plt.xlabel('Is Weekend? (0=No, 1=Yes)')\n",
    "plt.ylabel('Import Dwell Time')\n",
    "plt.show()"
   ]
  },
  {
   "cell_type": "code",
   "execution_count": 104,
   "metadata": {},
   "outputs": [
    {
     "data": {
      "text/plain": [
       "(107828.5, 7.05098354412231e-06)"
      ]
     },
     "execution_count": 104,
     "metadata": {},
     "output_type": "execute_result"
    }
   ],
   "source": [
    "weekday_dwell = shipment_df[shipment_df['IS_WEEKEND'] == 0]['IMPORT_DWELL_SCALED']\n",
    "weekend_dwell = shipment_df[shipment_df['IS_WEEKEND'] == 1]['IMPORT_DWELL_SCALED']\n",
    "stat, p = mannwhitneyu(weekday_dwell, weekend_dwell, alternative='two-sided')\n",
    "stat, p"
   ]
  },
  {
   "cell_type": "code",
   "execution_count": 105,
   "metadata": {},
   "outputs": [
    {
     "data": {
      "text/plain": [
       "Index(['SHIPMENTID', 'VESSEL', 'IMO', 'VOYAGE#', 'ORIGIN_PORT',\n",
       "       'DESTINATION_PORT', 'ARRIVAL_TIME', 'GATEOUT_TIME', 'EQUIPMENTTYPECODE',\n",
       "       'HAZMAT', 'IMPORT_DWELL', 'IMPORT_DWELL_MINMAX', 'LOG_TRANSFORM',\n",
       "       'SQRT_TRANSFORM', 'IMPORT_DWELL_SCALED', 'YEOJOHNSON_TRANSFORM',\n",
       "       'Z_Score', 'RF', 'Container_Category', 'Container_Size',\n",
       "       'ARRIVAL_DAY_OF_WEEK', 'IS_WEEKEND'],\n",
       "      dtype='object')"
      ]
     },
     "execution_count": 105,
     "metadata": {},
     "output_type": "execute_result"
    }
   ],
   "source": [
    "shipment_df.columns"
   ]
  },
  {
   "cell_type": "code",
   "execution_count": 106,
   "metadata": {},
   "outputs": [],
   "source": [
    "data_1 = shipment_df[['VESSEL', 'IMO', 'ORIGIN_PORT',\n",
    "       'DESTINATION_PORT', 'ARRIVAL_TIME', 'GATEOUT_TIME',\n",
    "       'HAZMAT', 'IMPORT_DWELL','IMPORT_DWELL_SCALED','RF', 'Container_Size', 'IS_WEEKEND']]"
   ]
  },
  {
   "cell_type": "code",
   "execution_count": 107,
   "metadata": {},
   "outputs": [],
   "source": [
    "data_1.to_csv('shipment_cleaned.csv')"
   ]
  },
  {
   "cell_type": "code",
   "execution_count": null,
   "metadata": {},
   "outputs": [],
   "source": []
  }
 ],
 "metadata": {
  "kernelspec": {
   "display_name": "base",
   "language": "python",
   "name": "python3"
  },
  "language_info": {
   "codemirror_mode": {
    "name": "ipython",
    "version": 3
   },
   "file_extension": ".py",
   "mimetype": "text/x-python",
   "name": "python",
   "nbconvert_exporter": "python",
   "pygments_lexer": "ipython3",
   "version": "3.8.5"
  }
 },
 "nbformat": 4,
 "nbformat_minor": 2
}
