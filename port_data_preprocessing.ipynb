{
 "cells": [
  {
   "cell_type": "code",
   "execution_count": 1,
   "metadata": {},
   "outputs": [],
   "source": [
    "import pandas as pd\n",
    "from matplotlib import pyplot as plt\n",
    "import seaborn as sns\n",
    "from sklearn.preprocessing import StandardScaler"
   ]
  },
  {
   "cell_type": "markdown",
   "metadata": {},
   "source": [
    "IMPORT PORT DATA"
   ]
  },
  {
   "cell_type": "code",
   "execution_count": 2,
   "metadata": {},
   "outputs": [],
   "source": [
    "ports_data = pd.read_csv(r\"C:\\Users\\sneha.priya\\OneDrive - WiseTech Global Pty Ltd\\Desktop\\DS\\VDT model\\DS Interview Assignment\\DS Interview Assignment\\Data for Assignment 1\\csv_files\\data3_ports.csv\")"
   ]
  },
  {
   "cell_type": "code",
   "execution_count": 3,
   "metadata": {},
   "outputs": [
    {
     "data": {
      "text/html": [
       "<div>\n",
       "<style scoped>\n",
       "    .dataframe tbody tr th:only-of-type {\n",
       "        vertical-align: middle;\n",
       "    }\n",
       "\n",
       "    .dataframe tbody tr th {\n",
       "        vertical-align: top;\n",
       "    }\n",
       "\n",
       "    .dataframe thead th {\n",
       "        text-align: right;\n",
       "    }\n",
       "</style>\n",
       "<table border=\"1\" class=\"dataframe\">\n",
       "  <thead>\n",
       "    <tr style=\"text-align: right;\">\n",
       "      <th></th>\n",
       "      <th>PORTNAME</th>\n",
       "      <th>Terminal</th>\n",
       "      <th>Service Lane</th>\n",
       "      <th>Vessel</th>\n",
       "      <th>Voyage #</th>\n",
       "      <th>Arrival Time</th>\n",
       "      <th>Departure Time</th>\n",
       "      <th>Port Cut off Time</th>\n",
       "    </tr>\n",
       "  </thead>\n",
       "  <tbody>\n",
       "    <tr>\n",
       "      <th>0</th>\n",
       "      <td>AARHUS</td>\n",
       "      <td>APM TERMINALS-AARHUS AS</td>\n",
       "      <td>SDX</td>\n",
       "      <td>AKACIA</td>\n",
       "      <td>1852E</td>\n",
       "      <td>31-12-2018 17:30</td>\n",
       "      <td>02-01-2019 12:04</td>\n",
       "      <td>30-12-2018 17:00</td>\n",
       "    </tr>\n",
       "    <tr>\n",
       "      <th>1</th>\n",
       "      <td>AARHUS</td>\n",
       "      <td>APM TERMINALS-AARHUS AS</td>\n",
       "      <td>IBC</td>\n",
       "      <td>ANNE SIBUM</td>\n",
       "      <td>014S</td>\n",
       "      <td>05-01-2019 13:09</td>\n",
       "      <td>05-01-2019 17:18</td>\n",
       "      <td>28-12-2018 14:00</td>\n",
       "    </tr>\n",
       "    <tr>\n",
       "      <th>2</th>\n",
       "      <td>AARHUS</td>\n",
       "      <td>APM TERMINALS-AARHUS AS</td>\n",
       "      <td>SDX</td>\n",
       "      <td>AKACIA</td>\n",
       "      <td>1901E</td>\n",
       "      <td>08-01-2019 06:06</td>\n",
       "      <td>08-01-2019 12:24</td>\n",
       "      <td>07-01-2019 17:00</td>\n",
       "    </tr>\n",
       "    <tr>\n",
       "      <th>3</th>\n",
       "      <td>AARHUS</td>\n",
       "      <td>APM TERMINALS-AARHUS AS</td>\n",
       "      <td>IBC</td>\n",
       "      <td>HELENA SCHEPERS</td>\n",
       "      <td>015S</td>\n",
       "      <td>12-01-2019 07:02</td>\n",
       "      <td>12-01-2019 14:30</td>\n",
       "      <td>08-01-2019 14:00</td>\n",
       "    </tr>\n",
       "    <tr>\n",
       "      <th>4</th>\n",
       "      <td>AARHUS</td>\n",
       "      <td>APM TERMINALS-AARHUS AS</td>\n",
       "      <td>SDX</td>\n",
       "      <td>AKACIA</td>\n",
       "      <td>1902W</td>\n",
       "      <td>15-01-2019 07:06</td>\n",
       "      <td>15-01-2019 14:04</td>\n",
       "      <td>14-01-2019 17:00</td>\n",
       "    </tr>\n",
       "  </tbody>\n",
       "</table>\n",
       "</div>"
      ],
      "text/plain": [
       "  PORTNAME                 Terminal Service Lane           Vessel Voyage #  \\\n",
       "0   AARHUS  APM TERMINALS-AARHUS AS          SDX           AKACIA    1852E   \n",
       "1   AARHUS  APM TERMINALS-AARHUS AS          IBC       ANNE SIBUM     014S   \n",
       "2   AARHUS  APM TERMINALS-AARHUS AS          SDX           AKACIA    1901E   \n",
       "3   AARHUS  APM TERMINALS-AARHUS AS          IBC  HELENA SCHEPERS     015S   \n",
       "4   AARHUS  APM TERMINALS-AARHUS AS          SDX           AKACIA    1902W   \n",
       "\n",
       "       Arrival Time    Departure Time Port Cut off Time  \n",
       "0  31-12-2018 17:30  02-01-2019 12:04  30-12-2018 17:00  \n",
       "1  05-01-2019 13:09  05-01-2019 17:18  28-12-2018 14:00  \n",
       "2  08-01-2019 06:06  08-01-2019 12:24  07-01-2019 17:00  \n",
       "3  12-01-2019 07:02  12-01-2019 14:30  08-01-2019 14:00  \n",
       "4  15-01-2019 07:06  15-01-2019 14:04  14-01-2019 17:00  "
      ]
     },
     "execution_count": 3,
     "metadata": {},
     "output_type": "execute_result"
    }
   ],
   "source": [
    "ports_data.head()"
   ]
  },
  {
   "cell_type": "code",
   "execution_count": 4,
   "metadata": {},
   "outputs": [
    {
     "data": {
      "text/plain": [
       "PORTNAME             0\n",
       "Terminal             0\n",
       "Service Lane         0\n",
       "Vessel               0\n",
       "Voyage #             0\n",
       "Arrival Time         0\n",
       "Departure Time       0\n",
       "Port Cut off Time    0\n",
       "dtype: int64"
      ]
     },
     "execution_count": 4,
     "metadata": {},
     "output_type": "execute_result"
    }
   ],
   "source": [
    "ports_data.isna().sum()"
   ]
  },
  {
   "cell_type": "code",
   "execution_count": 5,
   "metadata": {},
   "outputs": [],
   "source": [
    "# Convert 'Arrival Time' and 'Departure Time' to datetime format\n",
    "ports_data['Arrival Time'] = pd.to_datetime(ports_data['Arrival Time'], dayfirst=True)\n",
    "ports_data['Departure Time'] = pd.to_datetime(ports_data['Departure Time'], dayfirst=True)"
   ]
  },
  {
   "cell_type": "code",
   "execution_count": 6,
   "metadata": {},
   "outputs": [
    {
     "data": {
      "text/plain": [
       "Index(['PORTNAME', 'Terminal', 'Service Lane', 'Vessel', 'Voyage #',\n",
       "       'Arrival Time', 'Departure Time', 'Port Cut off Time'],\n",
       "      dtype='object')"
      ]
     },
     "execution_count": 6,
     "metadata": {},
     "output_type": "execute_result"
    }
   ],
   "source": [
    "ports_data.columns"
   ]
  },
  {
   "cell_type": "markdown",
   "metadata": {},
   "source": [
    "Feature check 1 - Unique vessels at each port"
   ]
  },
  {
   "cell_type": "code",
   "execution_count": 7,
   "metadata": {},
   "outputs": [],
   "source": [
    "# vessel_each_port = ports_data.groupby(['PORTNAME'])['Vessel'].nunique().reset_index(name='Unique Vessels in each port')\n",
    "# vessel_each_port"
   ]
  },
  {
   "cell_type": "code",
   "execution_count": 8,
   "metadata": {},
   "outputs": [],
   "source": [
    "# port_data_1 = ports_data.merge(vessel_each_port, on= 'PORTNAME', how = 'left')"
   ]
  },
  {
   "cell_type": "markdown",
   "metadata": {},
   "source": [
    "Feature check 2 - No. of Terminals at each port"
   ]
  },
  {
   "cell_type": "code",
   "execution_count": 9,
   "metadata": {},
   "outputs": [],
   "source": [
    "# terminals_each_port = port_data_1.groupby('PORTNAME')['Terminal'].nunique().reset_index(name='Number of Terminals in each port')\n",
    "# terminals_each_port"
   ]
  },
  {
   "cell_type": "code",
   "execution_count": 10,
   "metadata": {},
   "outputs": [],
   "source": [
    "# port_data_2 = port_data_1.merge(terminals_each_port, on= 'PORTNAME', how = 'left')"
   ]
  },
  {
   "cell_type": "code",
   "execution_count": 11,
   "metadata": {},
   "outputs": [],
   "source": [
    "# merged_data = pd.merge(vessels_per_port, terminals_per_port, on='PORTNAME')\n",
    "\n",
    "# # Calculate the average number of vessels per terminal for each port\n",
    "# merged_data['Vessels per Terminal'] = merged_data['Unique Vessels'] / merged_data['Number of Terminals']\n",
    "\n",
    "# # To see the data aggregated at the port level, we can group by PORTNAME again and sum up the unique vessels,\n",
    "# # then divide by the number of terminals to get the average number of vessels per terminal at the port level\n",
    "# port_level_avg = merged_data.groupby('PORTNAME').agg({\n",
    "#     'Unique Vessels': 'sum',\n",
    "#     'Number of Terminals': 'mean',  # This should be the same for all rows of the same port\n",
    "# }).reset_index()\n",
    "\n",
    "# port_level_avg['Avg Vessels per Terminal'] = port_level_avg['Unique Vessels'] / port_level_avg['Number of Terminals']\n",
    "\n",
    "\n",
    "# print(port_level_avg[['PORTNAME', 'Avg Vessels per Terminal']])"
   ]
  },
  {
   "cell_type": "markdown",
   "metadata": {},
   "source": [
    "Merging port data and shipment+vessel data"
   ]
  },
  {
   "cell_type": "code",
   "execution_count": 12,
   "metadata": {},
   "outputs": [],
   "source": [
    "port_data_cleaned = ports_data.rename(columns={\n",
    "    'PORTNAME': 'DESTINATION_PORT',\n",
    "    'Vessel': 'VESSEL',\n",
    "    # 'Voyage #': 'VOYAGE#',\n",
    "    'Arrival Time': 'ARRIVAL_TIME'\n",
    "})"
   ]
  },
  {
   "cell_type": "code",
   "execution_count": 13,
   "metadata": {},
   "outputs": [],
   "source": [
    "shipment_vessel = pd.read_csv(r'C:\\Users\\sneha.priya\\OneDrive - WiseTech Global Pty Ltd\\Desktop\\DS\\VDT model\\DS Interview Assignment\\DS Interview Assignment\\Data for Assignment 1\\csv_files\\shipment_vessel.csv')"
   ]
  },
  {
   "cell_type": "code",
   "execution_count": 14,
   "metadata": {},
   "outputs": [
    {
     "data": {
      "text/plain": [
       "(982, 17)"
      ]
     },
     "execution_count": 14,
     "metadata": {},
     "output_type": "execute_result"
    }
   ],
   "source": [
    "shipment_vessel.shape"
   ]
  },
  {
   "cell_type": "code",
   "execution_count": null,
   "metadata": {},
   "outputs": [],
   "source": []
  },
  {
   "cell_type": "code",
   "execution_count": 15,
   "metadata": {},
   "outputs": [],
   "source": [
    "shipment_vessel['ARRIVAL_TIME'] = pd.to_datetime(shipment_vessel['ARRIVAL_TIME'],dayfirst=True)"
   ]
  },
  {
   "cell_type": "code",
   "execution_count": 16,
   "metadata": {},
   "outputs": [],
   "source": [
    "shipment_vessel_port = shipment_vessel.merge(port_data_cleaned, how ='inner', on=['DESTINATION_PORT','VESSEL','ARRIVAL_TIME'])"
   ]
  },
  {
   "cell_type": "code",
   "execution_count": 17,
   "metadata": {},
   "outputs": [
    {
     "data": {
      "text/plain": [
       "Index(['Unnamed: 0.1', 'Unnamed: 0', 'VESSEL', 'IMO', 'ORIGIN_PORT',\n",
       "       'DESTINATION_PORT', 'ARRIVAL_TIME', 'GATEOUT_TIME', 'HAZMAT',\n",
       "       'IMPORT_DWELL', 'IMPORT_DWELL_SCALED', 'RF', 'Container_Size',\n",
       "       'IS_WEEKEND', 'LENGTH', 'CLUSTER', 'VESSEL_CATEGORY', 'Terminal',\n",
       "       'Service Lane', 'Voyage #', 'Departure Time', 'Port Cut off Time'],\n",
       "      dtype='object')"
      ]
     },
     "execution_count": 17,
     "metadata": {},
     "output_type": "execute_result"
    }
   ],
   "source": [
    "shipment_vessel_port.columns"
   ]
  },
  {
   "cell_type": "code",
   "execution_count": 18,
   "metadata": {},
   "outputs": [
    {
     "data": {
      "text/plain": [
       "(970, 22)"
      ]
     },
     "execution_count": 18,
     "metadata": {},
     "output_type": "execute_result"
    }
   ],
   "source": [
    "shipment_vessel_port.shape"
   ]
  },
  {
   "cell_type": "markdown",
   "metadata": {},
   "source": [
    "VTT feature"
   ]
  },
  {
   "cell_type": "code",
   "execution_count": 19,
   "metadata": {},
   "outputs": [],
   "source": [
    "# Calculate the VTT (Vessel Turnaround Time) in hours\n",
    "shipment_vessel_port['VTT'] = (shipment_vessel_port['Departure Time'] - shipment_vessel_port['ARRIVAL_TIME']) / pd.Timedelta(hours=1)"
   ]
  },
  {
   "cell_type": "code",
   "execution_count": 20,
   "metadata": {},
   "outputs": [
    {
     "data": {
      "text/plain": [
       "0       45.800000\n",
       "1       45.800000\n",
       "2       45.800000\n",
       "3       45.800000\n",
       "4       45.800000\n",
       "          ...    \n",
       "965    291.000000\n",
       "966    205.233333\n",
       "967     24.500000\n",
       "968     24.500000\n",
       "969     85.633333\n",
       "Name: VTT, Length: 970, dtype: float64"
      ]
     },
     "execution_count": 20,
     "metadata": {},
     "output_type": "execute_result"
    }
   ],
   "source": [
    "shipment_vessel_port['VTT']"
   ]
  },
  {
   "cell_type": "code",
   "execution_count": 21,
   "metadata": {},
   "outputs": [
    {
     "data": {
      "text/html": [
       "<div>\n",
       "<style scoped>\n",
       "    .dataframe tbody tr th:only-of-type {\n",
       "        vertical-align: middle;\n",
       "    }\n",
       "\n",
       "    .dataframe tbody tr th {\n",
       "        vertical-align: top;\n",
       "    }\n",
       "\n",
       "    .dataframe thead th {\n",
       "        text-align: right;\n",
       "    }\n",
       "</style>\n",
       "<table border=\"1\" class=\"dataframe\">\n",
       "  <thead>\n",
       "    <tr style=\"text-align: right;\">\n",
       "      <th></th>\n",
       "      <th>IMPORT_DWELL_SCALED</th>\n",
       "      <th>VTT</th>\n",
       "      <th>IMPORT_DWELL</th>\n",
       "    </tr>\n",
       "  </thead>\n",
       "  <tbody>\n",
       "    <tr>\n",
       "      <th>IMPORT_DWELL_SCALED</th>\n",
       "      <td>1.000000</td>\n",
       "      <td>0.290701</td>\n",
       "      <td>0.904860</td>\n",
       "    </tr>\n",
       "    <tr>\n",
       "      <th>VTT</th>\n",
       "      <td>0.290701</td>\n",
       "      <td>1.000000</td>\n",
       "      <td>0.218013</td>\n",
       "    </tr>\n",
       "    <tr>\n",
       "      <th>IMPORT_DWELL</th>\n",
       "      <td>0.904860</td>\n",
       "      <td>0.218013</td>\n",
       "      <td>1.000000</td>\n",
       "    </tr>\n",
       "  </tbody>\n",
       "</table>\n",
       "</div>"
      ],
      "text/plain": [
       "                     IMPORT_DWELL_SCALED       VTT  IMPORT_DWELL\n",
       "IMPORT_DWELL_SCALED             1.000000  0.290701      0.904860\n",
       "VTT                             0.290701  1.000000      0.218013\n",
       "IMPORT_DWELL                    0.904860  0.218013      1.000000"
      ]
     },
     "execution_count": 21,
     "metadata": {},
     "output_type": "execute_result"
    }
   ],
   "source": [
    "correlation_matrix_VTT = shipment_vessel_port[['IMPORT_DWELL_SCALED', 'VTT','IMPORT_DWELL']].corr()\n",
    "correlation_matrix_VTT"
   ]
  },
  {
   "cell_type": "code",
   "execution_count": 22,
   "metadata": {},
   "outputs": [
    {
     "data": {
      "image/png": "[encoded data removed]",
      "text/plain": [
       "<Figure size 1200x600 with 1 Axes>"
      ]
     },
     "metadata": {},
     "output_type": "display_data"
    }
   ],
   "source": [
    "plt.figure(figsize=(12, 6))\n",
    "sns.scatterplot(data=shipment_vessel_port, x=\"VTT\", y=\"IMPORT_DWELL_SCALED\", alpha=0.6)\n",
    "plt.title('Scatter Plot of Import Dwell Time vs. VTT')\n",
    "plt.xlabel('VTT')\n",
    "plt.ylabel('Import Dwell Time (hours)')\n",
    "\n",
    "plt.show()"
   ]
  },
  {
   "cell_type": "code",
   "execution_count": 23,
   "metadata": {},
   "outputs": [
    {
     "data": {
      "text/plain": [
       "Index(['Unnamed: 0.1', 'Unnamed: 0', 'VESSEL', 'IMO', 'ORIGIN_PORT',\n",
       "       'DESTINATION_PORT', 'ARRIVAL_TIME', 'GATEOUT_TIME', 'HAZMAT',\n",
       "       'IMPORT_DWELL', 'IMPORT_DWELL_SCALED', 'RF', 'Container_Size',\n",
       "       'IS_WEEKEND', 'LENGTH', 'CLUSTER', 'VESSEL_CATEGORY', 'Terminal',\n",
       "       'Service Lane', 'Voyage #', 'Departure Time', 'Port Cut off Time',\n",
       "       'VTT'],\n",
       "      dtype='object')"
      ]
     },
     "execution_count": 23,
     "metadata": {},
     "output_type": "execute_result"
    }
   ],
   "source": [
    "shipment_vessel_port.columns"
   ]
  },
  {
   "cell_type": "markdown",
   "metadata": {},
   "source": [
    "Feature - Avg berth time per port"
   ]
  },
  {
   "cell_type": "code",
   "execution_count": 24,
   "metadata": {},
   "outputs": [],
   "source": [
    "average_berth_time_per_port = shipment_vessel_port.groupby('DESTINATION_PORT')['VTT'].mean().reset_index(name='AVERAGE_BERTH_TIME')"
   ]
  },
  {
   "cell_type": "code",
   "execution_count": 25,
   "metadata": {},
   "outputs": [
    {
     "data": {
      "text/html": [
       "<div>\n",
       "<style scoped>\n",
       "    .dataframe tbody tr th:only-of-type {\n",
       "        vertical-align: middle;\n",
       "    }\n",
       "\n",
       "    .dataframe tbody tr th {\n",
       "        vertical-align: top;\n",
       "    }\n",
       "\n",
       "    .dataframe thead th {\n",
       "        text-align: right;\n",
       "    }\n",
       "</style>\n",
       "<table border=\"1\" class=\"dataframe\">\n",
       "  <thead>\n",
       "    <tr style=\"text-align: right;\">\n",
       "      <th></th>\n",
       "      <th>DESTINATION_PORT</th>\n",
       "      <th>AVERAGE_BERTH_TIME</th>\n",
       "    </tr>\n",
       "  </thead>\n",
       "  <tbody>\n",
       "    <tr>\n",
       "      <th>0</th>\n",
       "      <td>CHARLESTON</td>\n",
       "      <td>19.226531</td>\n",
       "    </tr>\n",
       "    <tr>\n",
       "      <th>1</th>\n",
       "      <td>HAMBURG</td>\n",
       "      <td>41.600000</td>\n",
       "    </tr>\n",
       "    <tr>\n",
       "      <th>2</th>\n",
       "      <td>HONG KONG</td>\n",
       "      <td>17.120833</td>\n",
       "    </tr>\n",
       "    <tr>\n",
       "      <th>3</th>\n",
       "      <td>HONOLULU</td>\n",
       "      <td>85.633333</td>\n",
       "    </tr>\n",
       "    <tr>\n",
       "      <th>4</th>\n",
       "      <td>JACKSONVILLE</td>\n",
       "      <td>20.633333</td>\n",
       "    </tr>\n",
       "    <tr>\n",
       "      <th>5</th>\n",
       "      <td>LONG BEACH</td>\n",
       "      <td>117.253546</td>\n",
       "    </tr>\n",
       "    <tr>\n",
       "      <th>6</th>\n",
       "      <td>LOS ANGELES</td>\n",
       "      <td>123.327140</td>\n",
       "    </tr>\n",
       "    <tr>\n",
       "      <th>7</th>\n",
       "      <td>NEW YORK</td>\n",
       "      <td>41.090476</td>\n",
       "    </tr>\n",
       "    <tr>\n",
       "      <th>8</th>\n",
       "      <td>NORFOLK</td>\n",
       "      <td>25.135897</td>\n",
       "    </tr>\n",
       "    <tr>\n",
       "      <th>9</th>\n",
       "      <td>OAKLAND</td>\n",
       "      <td>48.410833</td>\n",
       "    </tr>\n",
       "    <tr>\n",
       "      <th>10</th>\n",
       "      <td>PUSAN</td>\n",
       "      <td>12.150000</td>\n",
       "    </tr>\n",
       "    <tr>\n",
       "      <th>11</th>\n",
       "      <td>ROTTERDAM</td>\n",
       "      <td>17.933333</td>\n",
       "    </tr>\n",
       "    <tr>\n",
       "      <th>12</th>\n",
       "      <td>SAVANNAH</td>\n",
       "      <td>29.420617</td>\n",
       "    </tr>\n",
       "    <tr>\n",
       "      <th>13</th>\n",
       "      <td>SEATTLE</td>\n",
       "      <td>85.797222</td>\n",
       "    </tr>\n",
       "    <tr>\n",
       "      <th>14</th>\n",
       "      <td>SHANGHAI</td>\n",
       "      <td>24.482583</td>\n",
       "    </tr>\n",
       "    <tr>\n",
       "      <th>15</th>\n",
       "      <td>SINGAPORE</td>\n",
       "      <td>36.583333</td>\n",
       "    </tr>\n",
       "    <tr>\n",
       "      <th>16</th>\n",
       "      <td>TACOMA</td>\n",
       "      <td>60.251366</td>\n",
       "    </tr>\n",
       "    <tr>\n",
       "      <th>17</th>\n",
       "      <td>TOKYO</td>\n",
       "      <td>11.350000</td>\n",
       "    </tr>\n",
       "    <tr>\n",
       "      <th>18</th>\n",
       "      <td>VANCOUVER</td>\n",
       "      <td>98.044118</td>\n",
       "    </tr>\n",
       "    <tr>\n",
       "      <th>19</th>\n",
       "      <td>WILMINGTON</td>\n",
       "      <td>22.488889</td>\n",
       "    </tr>\n",
       "    <tr>\n",
       "      <th>20</th>\n",
       "      <td>YANTIAN</td>\n",
       "      <td>26.750000</td>\n",
       "    </tr>\n",
       "  </tbody>\n",
       "</table>\n",
       "</div>"
      ],
      "text/plain": [
       "   DESTINATION_PORT  AVERAGE_BERTH_TIME\n",
       "0        CHARLESTON           19.226531\n",
       "1           HAMBURG           41.600000\n",
       "2         HONG KONG           17.120833\n",
       "3          HONOLULU           85.633333\n",
       "4      JACKSONVILLE           20.633333\n",
       "5        LONG BEACH          117.253546\n",
       "6       LOS ANGELES          123.327140\n",
       "7          NEW YORK           41.090476\n",
       "8           NORFOLK           25.135897\n",
       "9           OAKLAND           48.410833\n",
       "10            PUSAN           12.150000\n",
       "11        ROTTERDAM           17.933333\n",
       "12         SAVANNAH           29.420617\n",
       "13          SEATTLE           85.797222\n",
       "14         SHANGHAI           24.482583\n",
       "15        SINGAPORE           36.583333\n",
       "16           TACOMA           60.251366\n",
       "17            TOKYO           11.350000\n",
       "18        VANCOUVER           98.044118\n",
       "19       WILMINGTON           22.488889\n",
       "20          YANTIAN           26.750000"
      ]
     },
     "execution_count": 25,
     "metadata": {},
     "output_type": "execute_result"
    }
   ],
   "source": [
    "average_berth_time_per_port"
   ]
  },
  {
   "cell_type": "code",
   "execution_count": 26,
   "metadata": {},
   "outputs": [],
   "source": [
    "shipment_vessel_port = shipment_vessel_port.merge(average_berth_time_per_port, on='DESTINATION_PORT', how='left')"
   ]
  },
  {
   "cell_type": "code",
   "execution_count": 27,
   "metadata": {},
   "outputs": [
    {
     "data": {
      "text/html": [
       "<div>\n",
       "<style scoped>\n",
       "    .dataframe tbody tr th:only-of-type {\n",
       "        vertical-align: middle;\n",
       "    }\n",
       "\n",
       "    .dataframe tbody tr th {\n",
       "        vertical-align: top;\n",
       "    }\n",
       "\n",
       "    .dataframe thead th {\n",
       "        text-align: right;\n",
       "    }\n",
       "</style>\n",
       "<table border=\"1\" class=\"dataframe\">\n",
       "  <thead>\n",
       "    <tr style=\"text-align: right;\">\n",
       "      <th></th>\n",
       "      <th>IMPORT_DWELL_SCALED</th>\n",
       "      <th>AVERAGE_BERTH_TIME</th>\n",
       "    </tr>\n",
       "  </thead>\n",
       "  <tbody>\n",
       "    <tr>\n",
       "      <th>IMPORT_DWELL_SCALED</th>\n",
       "      <td>1.000000</td>\n",
       "      <td>0.215829</td>\n",
       "    </tr>\n",
       "    <tr>\n",
       "      <th>AVERAGE_BERTH_TIME</th>\n",
       "      <td>0.215829</td>\n",
       "      <td>1.000000</td>\n",
       "    </tr>\n",
       "  </tbody>\n",
       "</table>\n",
       "</div>"
      ],
      "text/plain": [
       "                     IMPORT_DWELL_SCALED  AVERAGE_BERTH_TIME\n",
       "IMPORT_DWELL_SCALED             1.000000            0.215829\n",
       "AVERAGE_BERTH_TIME              0.215829            1.000000"
      ]
     },
     "execution_count": 27,
     "metadata": {},
     "output_type": "execute_result"
    }
   ],
   "source": [
    "shipment_vessel_port[['IMPORT_DWELL_SCALED', 'AVERAGE_BERTH_TIME']].corr()"
   ]
  },
  {
   "cell_type": "code",
   "execution_count": 28,
   "metadata": {},
   "outputs": [],
   "source": [
    "# min(shipment_vessel_port['LENGTH'][(shipment_vessel_port['CLUSTER']==0)])"
   ]
  },
  {
   "cell_type": "code",
   "execution_count": 29,
   "metadata": {},
   "outputs": [
    {
     "data": {
      "text/plain": [
       "116"
      ]
     },
     "execution_count": 29,
     "metadata": {},
     "output_type": "execute_result"
    }
   ],
   "source": [
    "259-143"
   ]
  },
  {
   "cell_type": "code",
   "execution_count": 30,
   "metadata": {},
   "outputs": [
    {
     "data": {
      "text/plain": [
       "Index(['Unnamed: 0.1', 'Unnamed: 0', 'VESSEL', 'IMO', 'ORIGIN_PORT',\n",
       "       'DESTINATION_PORT', 'ARRIVAL_TIME', 'GATEOUT_TIME', 'HAZMAT',\n",
       "       'IMPORT_DWELL', 'IMPORT_DWELL_SCALED', 'RF', 'Container_Size',\n",
       "       'IS_WEEKEND', 'LENGTH', 'CLUSTER', 'VESSEL_CATEGORY', 'Terminal',\n",
       "       'Service Lane', 'Voyage #', 'Departure Time', 'Port Cut off Time',\n",
       "       'VTT', 'AVERAGE_BERTH_TIME'],\n",
       "      dtype='object')"
      ]
     },
     "execution_count": 30,
     "metadata": {},
     "output_type": "execute_result"
    }
   ],
   "source": [
    "shipment_vessel_port.columns"
   ]
  },
  {
   "cell_type": "code",
   "execution_count": 31,
   "metadata": {},
   "outputs": [
    {
     "data": {
      "text/html": [
       "<div>\n",
       "<style scoped>\n",
       "    .dataframe tbody tr th:only-of-type {\n",
       "        vertical-align: middle;\n",
       "    }\n",
       "\n",
       "    .dataframe tbody tr th {\n",
       "        vertical-align: top;\n",
       "    }\n",
       "\n",
       "    .dataframe thead th {\n",
       "        text-align: right;\n",
       "    }\n",
       "</style>\n",
       "<table border=\"1\" class=\"dataframe\">\n",
       "  <thead>\n",
       "    <tr style=\"text-align: right;\">\n",
       "      <th></th>\n",
       "      <th>Unnamed: 0.1</th>\n",
       "      <th>Unnamed: 0</th>\n",
       "      <th>VESSEL</th>\n",
       "      <th>IMO</th>\n",
       "      <th>ORIGIN_PORT</th>\n",
       "      <th>DESTINATION_PORT</th>\n",
       "      <th>ARRIVAL_TIME</th>\n",
       "      <th>GATEOUT_TIME</th>\n",
       "      <th>HAZMAT</th>\n",
       "      <th>IMPORT_DWELL</th>\n",
       "      <th>...</th>\n",
       "      <th>LENGTH</th>\n",
       "      <th>CLUSTER</th>\n",
       "      <th>VESSEL_CATEGORY</th>\n",
       "      <th>Terminal</th>\n",
       "      <th>Service Lane</th>\n",
       "      <th>Voyage #</th>\n",
       "      <th>Departure Time</th>\n",
       "      <th>Port Cut off Time</th>\n",
       "      <th>VTT</th>\n",
       "      <th>AVERAGE_BERTH_TIME</th>\n",
       "    </tr>\n",
       "  </thead>\n",
       "  <tbody>\n",
       "    <tr>\n",
       "      <th>0</th>\n",
       "      <td>0</td>\n",
       "      <td>0</td>\n",
       "      <td>BELLAVIA</td>\n",
       "      <td>9290440</td>\n",
       "      <td>NAGOYA</td>\n",
       "      <td>TACOMA</td>\n",
       "      <td>2019-08-28 06:30:00</td>\n",
       "      <td>2019-08-29 13:11:00</td>\n",
       "      <td>0</td>\n",
       "      <td>30.683333</td>\n",
       "      <td>...</td>\n",
       "      <td>294</td>\n",
       "      <td>0</td>\n",
       "      <td>Medium</td>\n",
       "      <td>WUT (WASHINGTON UNITED TERMINALS)</td>\n",
       "      <td>PN4</td>\n",
       "      <td>003W</td>\n",
       "      <td>2019-08-30 04:18:00</td>\n",
       "      <td>27-08-2019 16:00</td>\n",
       "      <td>45.8</td>\n",
       "      <td>60.251366</td>\n",
       "    </tr>\n",
       "    <tr>\n",
       "      <th>1</th>\n",
       "      <td>1</td>\n",
       "      <td>1</td>\n",
       "      <td>BELLAVIA</td>\n",
       "      <td>9290440</td>\n",
       "      <td>TOKYO</td>\n",
       "      <td>TACOMA</td>\n",
       "      <td>2019-08-28 06:30:00</td>\n",
       "      <td>2019-08-30 14:30:00</td>\n",
       "      <td>0</td>\n",
       "      <td>56.000000</td>\n",
       "      <td>...</td>\n",
       "      <td>294</td>\n",
       "      <td>0</td>\n",
       "      <td>Medium</td>\n",
       "      <td>WUT (WASHINGTON UNITED TERMINALS)</td>\n",
       "      <td>PN4</td>\n",
       "      <td>003W</td>\n",
       "      <td>2019-08-30 04:18:00</td>\n",
       "      <td>27-08-2019 16:00</td>\n",
       "      <td>45.8</td>\n",
       "      <td>60.251366</td>\n",
       "    </tr>\n",
       "    <tr>\n",
       "      <th>2</th>\n",
       "      <td>2</td>\n",
       "      <td>55</td>\n",
       "      <td>BELLAVIA</td>\n",
       "      <td>9290440</td>\n",
       "      <td>TOKYO</td>\n",
       "      <td>TACOMA</td>\n",
       "      <td>2019-08-28 06:30:00</td>\n",
       "      <td>2019-09-03 09:46:00</td>\n",
       "      <td>0</td>\n",
       "      <td>147.266667</td>\n",
       "      <td>...</td>\n",
       "      <td>294</td>\n",
       "      <td>0</td>\n",
       "      <td>Medium</td>\n",
       "      <td>WUT (WASHINGTON UNITED TERMINALS)</td>\n",
       "      <td>PN4</td>\n",
       "      <td>003W</td>\n",
       "      <td>2019-08-30 04:18:00</td>\n",
       "      <td>27-08-2019 16:00</td>\n",
       "      <td>45.8</td>\n",
       "      <td>60.251366</td>\n",
       "    </tr>\n",
       "    <tr>\n",
       "      <th>3</th>\n",
       "      <td>3</td>\n",
       "      <td>56</td>\n",
       "      <td>BELLAVIA</td>\n",
       "      <td>9290440</td>\n",
       "      <td>TOKYO</td>\n",
       "      <td>TACOMA</td>\n",
       "      <td>2019-08-28 06:30:00</td>\n",
       "      <td>2019-08-29 10:03:00</td>\n",
       "      <td>0</td>\n",
       "      <td>27.550000</td>\n",
       "      <td>...</td>\n",
       "      <td>294</td>\n",
       "      <td>0</td>\n",
       "      <td>Medium</td>\n",
       "      <td>WUT (WASHINGTON UNITED TERMINALS)</td>\n",
       "      <td>PN4</td>\n",
       "      <td>003W</td>\n",
       "      <td>2019-08-30 04:18:00</td>\n",
       "      <td>27-08-2019 16:00</td>\n",
       "      <td>45.8</td>\n",
       "      <td>60.251366</td>\n",
       "    </tr>\n",
       "    <tr>\n",
       "      <th>4</th>\n",
       "      <td>4</td>\n",
       "      <td>57</td>\n",
       "      <td>BELLAVIA</td>\n",
       "      <td>9290440</td>\n",
       "      <td>TOKYO</td>\n",
       "      <td>TACOMA</td>\n",
       "      <td>2019-08-28 06:30:00</td>\n",
       "      <td>2019-08-29 10:38:00</td>\n",
       "      <td>0</td>\n",
       "      <td>28.133333</td>\n",
       "      <td>...</td>\n",
       "      <td>294</td>\n",
       "      <td>0</td>\n",
       "      <td>Medium</td>\n",
       "      <td>WUT (WASHINGTON UNITED TERMINALS)</td>\n",
       "      <td>PN4</td>\n",
       "      <td>003W</td>\n",
       "      <td>2019-08-30 04:18:00</td>\n",
       "      <td>27-08-2019 16:00</td>\n",
       "      <td>45.8</td>\n",
       "      <td>60.251366</td>\n",
       "    </tr>\n",
       "  </tbody>\n",
       "</table>\n",
       "<p>5 rows × 24 columns</p>\n",
       "</div>"
      ],
      "text/plain": [
       "   Unnamed: 0.1  Unnamed: 0    VESSEL      IMO ORIGIN_PORT DESTINATION_PORT  \\\n",
       "0             0           0  BELLAVIA  9290440      NAGOYA           TACOMA   \n",
       "1             1           1  BELLAVIA  9290440       TOKYO           TACOMA   \n",
       "2             2          55  BELLAVIA  9290440       TOKYO           TACOMA   \n",
       "3             3          56  BELLAVIA  9290440       TOKYO           TACOMA   \n",
       "4             4          57  BELLAVIA  9290440       TOKYO           TACOMA   \n",
       "\n",
       "         ARRIVAL_TIME         GATEOUT_TIME  HAZMAT  IMPORT_DWELL  ...  LENGTH  \\\n",
       "0 2019-08-28 06:30:00  2019-08-29 13:11:00       0     30.683333  ...     294   \n",
       "1 2019-08-28 06:30:00  2019-08-30 14:30:00       0     56.000000  ...     294   \n",
       "2 2019-08-28 06:30:00  2019-09-03 09:46:00       0    147.266667  ...     294   \n",
       "3 2019-08-28 06:30:00  2019-08-29 10:03:00       0     27.550000  ...     294   \n",
       "4 2019-08-28 06:30:00  2019-08-29 10:38:00       0     28.133333  ...     294   \n",
       "\n",
       "   CLUSTER  VESSEL_CATEGORY                           Terminal  Service Lane  \\\n",
       "0        0           Medium  WUT (WASHINGTON UNITED TERMINALS)           PN4   \n",
       "1        0           Medium  WUT (WASHINGTON UNITED TERMINALS)           PN4   \n",
       "2        0           Medium  WUT (WASHINGTON UNITED TERMINALS)           PN4   \n",
       "3        0           Medium  WUT (WASHINGTON UNITED TERMINALS)           PN4   \n",
       "4        0           Medium  WUT (WASHINGTON UNITED TERMINALS)           PN4   \n",
       "\n",
       "   Voyage #      Departure Time Port Cut off Time   VTT AVERAGE_BERTH_TIME  \n",
       "0      003W 2019-08-30 04:18:00  27-08-2019 16:00  45.8          60.251366  \n",
       "1      003W 2019-08-30 04:18:00  27-08-2019 16:00  45.8          60.251366  \n",
       "2      003W 2019-08-30 04:18:00  27-08-2019 16:00  45.8          60.251366  \n",
       "3      003W 2019-08-30 04:18:00  27-08-2019 16:00  45.8          60.251366  \n",
       "4      003W 2019-08-30 04:18:00  27-08-2019 16:00  45.8          60.251366  \n",
       "\n",
       "[5 rows x 24 columns]"
      ]
     },
     "execution_count": 31,
     "metadata": {},
     "output_type": "execute_result"
    }
   ],
   "source": [
    "shipment_vessel_port.head()"
   ]
  },
  {
   "cell_type": "code",
   "execution_count": 32,
   "metadata": {},
   "outputs": [],
   "source": [
    "shipment_vessel_port['ARRIVAL_TIME'] = pd.to_datetime(shipment_vessel_port['ARRIVAL_TIME'])\n",
    "shipment_vessel_port['GATEOUT_TIME'] = pd.to_datetime(shipment_vessel_port['GATEOUT_TIME'])"
   ]
  },
  {
   "cell_type": "markdown",
   "metadata": {},
   "source": [
    "Feature - vessels coming in (departure and arrival window) on the basis of Port"
   ]
  },
  {
   "cell_type": "code",
   "execution_count": 33,
   "metadata": {},
   "outputs": [],
   "source": [
    "port_level_arrivals = {port: 0 for port in shipment_vessel_port['DESTINATION_PORT'].unique()}"
   ]
  },
  {
   "cell_type": "code",
   "execution_count": 34,
   "metadata": {},
   "outputs": [
    {
     "data": {
      "text/plain": [
       "{'TACOMA': 0,\n",
       " 'NEW YORK': 0,\n",
       " 'CHARLESTON': 0,\n",
       " 'SAVANNAH': 0,\n",
       " 'NORFOLK': 0,\n",
       " 'JACKSONVILLE': 0,\n",
       " 'SHANGHAI': 0,\n",
       " 'OAKLAND': 0,\n",
       " 'HONG KONG': 0,\n",
       " 'SEATTLE': 0,\n",
       " 'VANCOUVER': 0,\n",
       " 'PUSAN': 0,\n",
       " 'LOS ANGELES': 0,\n",
       " 'LONG BEACH': 0,\n",
       " 'TOKYO': 0,\n",
       " 'SINGAPORE': 0,\n",
       " 'ROTTERDAM': 0,\n",
       " 'WILMINGTON': 0,\n",
       " 'HAMBURG': 0,\n",
       " 'YANTIAN': 0,\n",
       " 'HONOLULU': 0}"
      ]
     },
     "execution_count": 34,
     "metadata": {},
     "output_type": "execute_result"
    }
   ],
   "source": [
    "port_level_arrivals"
   ]
  },
  {
   "cell_type": "code",
   "execution_count": 35,
   "metadata": {},
   "outputs": [],
   "source": [
    "for index, row in shipment_vessel_port.iterrows():\n",
    "    arrival_time = row['ARRIVAL_TIME']\n",
    "    departure_time = row['Departure Time']\n",
    "    destination_port = row['DESTINATION_PORT']\n",
    "    \n",
    "    count = ((shipment_vessel_port['DESTINATION_PORT'] == destination_port) &\n",
    "             (shipment_vessel_port['ARRIVAL_TIME'] >= arrival_time) & \n",
    "             (shipment_vessel_port['ARRIVAL_TIME'] <= departure_time)).sum()\n",
    "    \n",
    "    port_level_arrivals[destination_port] += count"
   ]
  },
  {
   "cell_type": "code",
   "execution_count": 36,
   "metadata": {},
   "outputs": [
    {
     "data": {
      "text/plain": [
       "{'TACOMA': 316,\n",
       " 'NEW YORK': 1375,\n",
       " 'CHARLESTON': 367,\n",
       " 'SAVANNAH': 891,\n",
       " 'NORFOLK': 17,\n",
       " 'JACKSONVILLE': 3,\n",
       " 'SHANGHAI': 2023,\n",
       " 'OAKLAND': 85,\n",
       " 'HONG KONG': 4,\n",
       " 'SEATTLE': 6,\n",
       " 'VANCOUVER': 25,\n",
       " 'PUSAN': 1,\n",
       " 'LOS ANGELES': 1418,\n",
       " 'LONG BEACH': 649,\n",
       " 'TOKYO': 1,\n",
       " 'SINGAPORE': 54,\n",
       " 'ROTTERDAM': 1,\n",
       " 'WILMINGTON': 5,\n",
       " 'HAMBURG': 1,\n",
       " 'YANTIAN': 1,\n",
       " 'HONOLULU': 1}"
      ]
     },
     "execution_count": 36,
     "metadata": {},
     "output_type": "execute_result"
    }
   ],
   "source": [
    "port_level_arrivals"
   ]
  },
  {
   "cell_type": "code",
   "execution_count": 37,
   "metadata": {},
   "outputs": [],
   "source": [
    "port_level_arrivals_df = pd.DataFrame(list(port_level_arrivals.items()), columns=['DESTINATION_PORT', 'Total_Arrival_in_Window'])"
   ]
  },
  {
   "cell_type": "code",
   "execution_count": 38,
   "metadata": {},
   "outputs": [
    {
     "data": {
      "text/html": [
       "<div>\n",
       "<style scoped>\n",
       "    .dataframe tbody tr th:only-of-type {\n",
       "        vertical-align: middle;\n",
       "    }\n",
       "\n",
       "    .dataframe tbody tr th {\n",
       "        vertical-align: top;\n",
       "    }\n",
       "\n",
       "    .dataframe thead th {\n",
       "        text-align: right;\n",
       "    }\n",
       "</style>\n",
       "<table border=\"1\" class=\"dataframe\">\n",
       "  <thead>\n",
       "    <tr style=\"text-align: right;\">\n",
       "      <th></th>\n",
       "      <th>DESTINATION_PORT</th>\n",
       "      <th>Total_Arrival_in_Window</th>\n",
       "    </tr>\n",
       "  </thead>\n",
       "  <tbody>\n",
       "    <tr>\n",
       "      <th>0</th>\n",
       "      <td>TACOMA</td>\n",
       "      <td>316</td>\n",
       "    </tr>\n",
       "    <tr>\n",
       "      <th>1</th>\n",
       "      <td>NEW YORK</td>\n",
       "      <td>1375</td>\n",
       "    </tr>\n",
       "    <tr>\n",
       "      <th>2</th>\n",
       "      <td>CHARLESTON</td>\n",
       "      <td>367</td>\n",
       "    </tr>\n",
       "    <tr>\n",
       "      <th>3</th>\n",
       "      <td>SAVANNAH</td>\n",
       "      <td>891</td>\n",
       "    </tr>\n",
       "    <tr>\n",
       "      <th>4</th>\n",
       "      <td>NORFOLK</td>\n",
       "      <td>17</td>\n",
       "    </tr>\n",
       "    <tr>\n",
       "      <th>5</th>\n",
       "      <td>JACKSONVILLE</td>\n",
       "      <td>3</td>\n",
       "    </tr>\n",
       "    <tr>\n",
       "      <th>6</th>\n",
       "      <td>SHANGHAI</td>\n",
       "      <td>2023</td>\n",
       "    </tr>\n",
       "    <tr>\n",
       "      <th>7</th>\n",
       "      <td>OAKLAND</td>\n",
       "      <td>85</td>\n",
       "    </tr>\n",
       "    <tr>\n",
       "      <th>8</th>\n",
       "      <td>HONG KONG</td>\n",
       "      <td>4</td>\n",
       "    </tr>\n",
       "    <tr>\n",
       "      <th>9</th>\n",
       "      <td>SEATTLE</td>\n",
       "      <td>6</td>\n",
       "    </tr>\n",
       "    <tr>\n",
       "      <th>10</th>\n",
       "      <td>VANCOUVER</td>\n",
       "      <td>25</td>\n",
       "    </tr>\n",
       "    <tr>\n",
       "      <th>11</th>\n",
       "      <td>PUSAN</td>\n",
       "      <td>1</td>\n",
       "    </tr>\n",
       "    <tr>\n",
       "      <th>12</th>\n",
       "      <td>LOS ANGELES</td>\n",
       "      <td>1418</td>\n",
       "    </tr>\n",
       "    <tr>\n",
       "      <th>13</th>\n",
       "      <td>LONG BEACH</td>\n",
       "      <td>649</td>\n",
       "    </tr>\n",
       "    <tr>\n",
       "      <th>14</th>\n",
       "      <td>TOKYO</td>\n",
       "      <td>1</td>\n",
       "    </tr>\n",
       "    <tr>\n",
       "      <th>15</th>\n",
       "      <td>SINGAPORE</td>\n",
       "      <td>54</td>\n",
       "    </tr>\n",
       "    <tr>\n",
       "      <th>16</th>\n",
       "      <td>ROTTERDAM</td>\n",
       "      <td>1</td>\n",
       "    </tr>\n",
       "    <tr>\n",
       "      <th>17</th>\n",
       "      <td>WILMINGTON</td>\n",
       "      <td>5</td>\n",
       "    </tr>\n",
       "    <tr>\n",
       "      <th>18</th>\n",
       "      <td>HAMBURG</td>\n",
       "      <td>1</td>\n",
       "    </tr>\n",
       "    <tr>\n",
       "      <th>19</th>\n",
       "      <td>YANTIAN</td>\n",
       "      <td>1</td>\n",
       "    </tr>\n",
       "    <tr>\n",
       "      <th>20</th>\n",
       "      <td>HONOLULU</td>\n",
       "      <td>1</td>\n",
       "    </tr>\n",
       "  </tbody>\n",
       "</table>\n",
       "</div>"
      ],
      "text/plain": [
       "   DESTINATION_PORT  Total_Arrival_in_Window\n",
       "0            TACOMA                      316\n",
       "1          NEW YORK                     1375\n",
       "2        CHARLESTON                      367\n",
       "3          SAVANNAH                      891\n",
       "4           NORFOLK                       17\n",
       "5      JACKSONVILLE                        3\n",
       "6          SHANGHAI                     2023\n",
       "7           OAKLAND                       85\n",
       "8         HONG KONG                        4\n",
       "9           SEATTLE                        6\n",
       "10        VANCOUVER                       25\n",
       "11            PUSAN                        1\n",
       "12      LOS ANGELES                     1418\n",
       "13       LONG BEACH                      649\n",
       "14            TOKYO                        1\n",
       "15        SINGAPORE                       54\n",
       "16        ROTTERDAM                        1\n",
       "17       WILMINGTON                        5\n",
       "18          HAMBURG                        1\n",
       "19          YANTIAN                        1\n",
       "20         HONOLULU                        1"
      ]
     },
     "execution_count": 38,
     "metadata": {},
     "output_type": "execute_result"
    }
   ],
   "source": [
    "port_level_arrivals_df"
   ]
  },
  {
   "cell_type": "code",
   "execution_count": 39,
   "metadata": {},
   "outputs": [],
   "source": [
    "shipment_vessel_port_updated = shipment_vessel_port.merge(port_level_arrivals_df, on='DESTINATION_PORT', how='left')"
   ]
  },
  {
   "cell_type": "code",
   "execution_count": 40,
   "metadata": {},
   "outputs": [
    {
     "data": {
      "text/html": [
       "<div>\n",
       "<style scoped>\n",
       "    .dataframe tbody tr th:only-of-type {\n",
       "        vertical-align: middle;\n",
       "    }\n",
       "\n",
       "    .dataframe tbody tr th {\n",
       "        vertical-align: top;\n",
       "    }\n",
       "\n",
       "    .dataframe thead th {\n",
       "        text-align: right;\n",
       "    }\n",
       "</style>\n",
       "<table border=\"1\" class=\"dataframe\">\n",
       "  <thead>\n",
       "    <tr style=\"text-align: right;\">\n",
       "      <th></th>\n",
       "      <th>Total_Arrival_in_Window</th>\n",
       "      <th>IMPORT_DWELL_SCALED</th>\n",
       "    </tr>\n",
       "  </thead>\n",
       "  <tbody>\n",
       "    <tr>\n",
       "      <th>Total_Arrival_in_Window</th>\n",
       "      <td>1.0000</td>\n",
       "      <td>0.2323</td>\n",
       "    </tr>\n",
       "    <tr>\n",
       "      <th>IMPORT_DWELL_SCALED</th>\n",
       "      <td>0.2323</td>\n",
       "      <td>1.0000</td>\n",
       "    </tr>\n",
       "  </tbody>\n",
       "</table>\n",
       "</div>"
      ],
      "text/plain": [
       "                         Total_Arrival_in_Window  IMPORT_DWELL_SCALED\n",
       "Total_Arrival_in_Window                   1.0000               0.2323\n",
       "IMPORT_DWELL_SCALED                       0.2323               1.0000"
      ]
     },
     "execution_count": 40,
     "metadata": {},
     "output_type": "execute_result"
    }
   ],
   "source": [
    "shipment_vessel_port_updated[['Total_Arrival_in_Window','IMPORT_DWELL_SCALED']].corr()"
   ]
  },
  {
   "cell_type": "markdown",
   "metadata": {},
   "source": [
    "Feature- Total Terminals in port"
   ]
  },
  {
   "cell_type": "code",
   "execution_count": 41,
   "metadata": {},
   "outputs": [
    {
     "data": {
      "text/html": [
       "<div>\n",
       "<style scoped>\n",
       "    .dataframe tbody tr th:only-of-type {\n",
       "        vertical-align: middle;\n",
       "    }\n",
       "\n",
       "    .dataframe tbody tr th {\n",
       "        vertical-align: top;\n",
       "    }\n",
       "\n",
       "    .dataframe thead th {\n",
       "        text-align: right;\n",
       "    }\n",
       "</style>\n",
       "<table border=\"1\" class=\"dataframe\">\n",
       "  <thead>\n",
       "    <tr style=\"text-align: right;\">\n",
       "      <th></th>\n",
       "      <th>DESTINATION_PORT</th>\n",
       "      <th>Terminals_in_Port</th>\n",
       "    </tr>\n",
       "  </thead>\n",
       "  <tbody>\n",
       "    <tr>\n",
       "      <th>0</th>\n",
       "      <td>CHARLESTON</td>\n",
       "      <td>1</td>\n",
       "    </tr>\n",
       "    <tr>\n",
       "      <th>1</th>\n",
       "      <td>HAMBURG</td>\n",
       "      <td>1</td>\n",
       "    </tr>\n",
       "    <tr>\n",
       "      <th>2</th>\n",
       "      <td>HONG KONG</td>\n",
       "      <td>1</td>\n",
       "    </tr>\n",
       "    <tr>\n",
       "      <th>3</th>\n",
       "      <td>HONOLULU</td>\n",
       "      <td>1</td>\n",
       "    </tr>\n",
       "    <tr>\n",
       "      <th>4</th>\n",
       "      <td>JACKSONVILLE</td>\n",
       "      <td>1</td>\n",
       "    </tr>\n",
       "    <tr>\n",
       "      <th>5</th>\n",
       "      <td>LONG BEACH</td>\n",
       "      <td>1</td>\n",
       "    </tr>\n",
       "    <tr>\n",
       "      <th>6</th>\n",
       "      <td>LOS ANGELES</td>\n",
       "      <td>4</td>\n",
       "    </tr>\n",
       "    <tr>\n",
       "      <th>7</th>\n",
       "      <td>NEW YORK</td>\n",
       "      <td>3</td>\n",
       "    </tr>\n",
       "    <tr>\n",
       "      <th>8</th>\n",
       "      <td>NORFOLK</td>\n",
       "      <td>2</td>\n",
       "    </tr>\n",
       "    <tr>\n",
       "      <th>9</th>\n",
       "      <td>OAKLAND</td>\n",
       "      <td>2</td>\n",
       "    </tr>\n",
       "    <tr>\n",
       "      <th>10</th>\n",
       "      <td>PUSAN</td>\n",
       "      <td>1</td>\n",
       "    </tr>\n",
       "    <tr>\n",
       "      <th>11</th>\n",
       "      <td>ROTTERDAM</td>\n",
       "      <td>1</td>\n",
       "    </tr>\n",
       "    <tr>\n",
       "      <th>12</th>\n",
       "      <td>SAVANNAH</td>\n",
       "      <td>1</td>\n",
       "    </tr>\n",
       "    <tr>\n",
       "      <th>13</th>\n",
       "      <td>SEATTLE</td>\n",
       "      <td>1</td>\n",
       "    </tr>\n",
       "    <tr>\n",
       "      <th>14</th>\n",
       "      <td>SHANGHAI</td>\n",
       "      <td>3</td>\n",
       "    </tr>\n",
       "    <tr>\n",
       "      <th>15</th>\n",
       "      <td>SINGAPORE</td>\n",
       "      <td>1</td>\n",
       "    </tr>\n",
       "    <tr>\n",
       "      <th>16</th>\n",
       "      <td>TACOMA</td>\n",
       "      <td>2</td>\n",
       "    </tr>\n",
       "    <tr>\n",
       "      <th>17</th>\n",
       "      <td>TOKYO</td>\n",
       "      <td>1</td>\n",
       "    </tr>\n",
       "    <tr>\n",
       "      <th>18</th>\n",
       "      <td>VANCOUVER</td>\n",
       "      <td>1</td>\n",
       "    </tr>\n",
       "    <tr>\n",
       "      <th>19</th>\n",
       "      <td>WILMINGTON</td>\n",
       "      <td>1</td>\n",
       "    </tr>\n",
       "    <tr>\n",
       "      <th>20</th>\n",
       "      <td>YANTIAN</td>\n",
       "      <td>1</td>\n",
       "    </tr>\n",
       "  </tbody>\n",
       "</table>\n",
       "</div>"
      ],
      "text/plain": [
       "   DESTINATION_PORT  Terminals_in_Port\n",
       "0        CHARLESTON                  1\n",
       "1           HAMBURG                  1\n",
       "2         HONG KONG                  1\n",
       "3          HONOLULU                  1\n",
       "4      JACKSONVILLE                  1\n",
       "5        LONG BEACH                  1\n",
       "6       LOS ANGELES                  4\n",
       "7          NEW YORK                  3\n",
       "8           NORFOLK                  2\n",
       "9           OAKLAND                  2\n",
       "10            PUSAN                  1\n",
       "11        ROTTERDAM                  1\n",
       "12         SAVANNAH                  1\n",
       "13          SEATTLE                  1\n",
       "14         SHANGHAI                  3\n",
       "15        SINGAPORE                  1\n",
       "16           TACOMA                  2\n",
       "17            TOKYO                  1\n",
       "18        VANCOUVER                  1\n",
       "19       WILMINGTON                  1\n",
       "20          YANTIAN                  1"
      ]
     },
     "execution_count": 41,
     "metadata": {},
     "output_type": "execute_result"
    }
   ],
   "source": [
    "terminals_per_port = shipment_vessel_port_updated.groupby('DESTINATION_PORT')['Terminal'].nunique().reset_index(name='Terminals_in_Port')\n",
    "terminals_per_port"
   ]
  },
  {
   "cell_type": "code",
   "execution_count": 42,
   "metadata": {},
   "outputs": [],
   "source": [
    "shipment_vessel_port_final = shipment_vessel_port_updated.merge(terminals_per_port, how='left', on='DESTINATION_PORT')"
   ]
  },
  {
   "cell_type": "code",
   "execution_count": 43,
   "metadata": {},
   "outputs": [
    {
     "data": {
      "text/html": [
       "<div>\n",
       "<style scoped>\n",
       "    .dataframe tbody tr th:only-of-type {\n",
       "        vertical-align: middle;\n",
       "    }\n",
       "\n",
       "    .dataframe tbody tr th {\n",
       "        vertical-align: top;\n",
       "    }\n",
       "\n",
       "    .dataframe thead th {\n",
       "        text-align: right;\n",
       "    }\n",
       "</style>\n",
       "<table border=\"1\" class=\"dataframe\">\n",
       "  <thead>\n",
       "    <tr style=\"text-align: right;\">\n",
       "      <th></th>\n",
       "      <th>Terminals_in_Port</th>\n",
       "      <th>IMPORT_DWELL_SCALED</th>\n",
       "    </tr>\n",
       "  </thead>\n",
       "  <tbody>\n",
       "    <tr>\n",
       "      <th>Terminals_in_Port</th>\n",
       "      <td>1.000000</td>\n",
       "      <td>0.268654</td>\n",
       "    </tr>\n",
       "    <tr>\n",
       "      <th>IMPORT_DWELL_SCALED</th>\n",
       "      <td>0.268654</td>\n",
       "      <td>1.000000</td>\n",
       "    </tr>\n",
       "  </tbody>\n",
       "</table>\n",
       "</div>"
      ],
      "text/plain": [
       "                     Terminals_in_Port  IMPORT_DWELL_SCALED\n",
       "Terminals_in_Port             1.000000             0.268654\n",
       "IMPORT_DWELL_SCALED           0.268654             1.000000"
      ]
     },
     "execution_count": 43,
     "metadata": {},
     "output_type": "execute_result"
    }
   ],
   "source": [
    "shipment_vessel_port_final[['Terminals_in_Port','IMPORT_DWELL_SCALED']].corr()"
   ]
  },
  {
   "cell_type": "code",
   "execution_count": 44,
   "metadata": {},
   "outputs": [],
   "source": [
    "# correlation_matrix = shipment_vessel_port_updated[['IMPORT_DWELL_SCALED', 'Terminals_in_Port', 'Vessels_at_Port', 'Vessels_per_Terminal_in_Window','Arrival_in_Window','Arrival_Ratio_Terminal_to_Port']].corr()"
   ]
  },
  {
   "cell_type": "code",
   "execution_count": 45,
   "metadata": {},
   "outputs": [],
   "source": [
    "# correlation_matrix"
   ]
  },
  {
   "cell_type": "markdown",
   "metadata": {},
   "source": [
    "number of unique vessel in terminal / total number of unique vessels visited in that port"
   ]
  },
  {
   "cell_type": "code",
   "execution_count": 46,
   "metadata": {},
   "outputs": [],
   "source": [
    "# count unique VESSEL in terminal\n",
    "unique_vessels_per_terminal = shipment_vessel_port_final.groupby(['DESTINATION_PORT', 'Terminal'])['VESSEL'].nunique().reset_index(name='UNIQUE_VESSELS_PER_TERMINAL')"
   ]
  },
  {
   "cell_type": "code",
   "execution_count": 47,
   "metadata": {},
   "outputs": [],
   "source": [
    "# count unique VESSEL in port\n",
    "total_unique_vessels_per_port = shipment_vessel_port_final.groupby('DESTINATION_PORT')['VESSEL'].nunique().reset_index(name='TOTAL_UNIQUE_VESSELS')"
   ]
  },
  {
   "cell_type": "code",
   "execution_count": 48,
   "metadata": {},
   "outputs": [],
   "source": [
    "unique_vessels_per_terminal = unique_vessels_per_terminal.merge(total_unique_vessels_per_port, on='DESTINATION_PORT', how='left')"
   ]
  },
  {
   "cell_type": "code",
   "execution_count": 49,
   "metadata": {},
   "outputs": [],
   "source": [
    "# Calculate the ratio of unique vessels per terminal to total unique vessels at the port\n",
    "unique_vessels_per_terminal['UNIQUE_VESSELS_RATIO'] = unique_vessels_per_terminal['UNIQUE_VESSELS_PER_TERMINAL'] / unique_vessels_per_terminal['TOTAL_UNIQUE_VESSELS']"
   ]
  },
  {
   "cell_type": "code",
   "execution_count": 50,
   "metadata": {},
   "outputs": [],
   "source": [
    "shipment_vessel_port_final = shipment_vessel_port_final.merge(unique_vessels_per_terminal[['DESTINATION_PORT', 'Terminal', 'UNIQUE_VESSELS_RATIO']], on=['DESTINATION_PORT', 'Terminal'], how='left')"
   ]
  },
  {
   "cell_type": "code",
   "execution_count": 51,
   "metadata": {},
   "outputs": [
    {
     "data": {
      "text/html": [
       "<div>\n",
       "<style scoped>\n",
       "    .dataframe tbody tr th:only-of-type {\n",
       "        vertical-align: middle;\n",
       "    }\n",
       "\n",
       "    .dataframe tbody tr th {\n",
       "        vertical-align: top;\n",
       "    }\n",
       "\n",
       "    .dataframe thead th {\n",
       "        text-align: right;\n",
       "    }\n",
       "</style>\n",
       "<table border=\"1\" class=\"dataframe\">\n",
       "  <thead>\n",
       "    <tr style=\"text-align: right;\">\n",
       "      <th></th>\n",
       "      <th>UNIQUE_VESSELS_RATIO</th>\n",
       "      <th>IMPORT_DWELL_SCALED</th>\n",
       "    </tr>\n",
       "  </thead>\n",
       "  <tbody>\n",
       "    <tr>\n",
       "      <th>UNIQUE_VESSELS_RATIO</th>\n",
       "      <td>1.000000</td>\n",
       "      <td>-0.251018</td>\n",
       "    </tr>\n",
       "    <tr>\n",
       "      <th>IMPORT_DWELL_SCALED</th>\n",
       "      <td>-0.251018</td>\n",
       "      <td>1.000000</td>\n",
       "    </tr>\n",
       "  </tbody>\n",
       "</table>\n",
       "</div>"
      ],
      "text/plain": [
       "                      UNIQUE_VESSELS_RATIO  IMPORT_DWELL_SCALED\n",
       "UNIQUE_VESSELS_RATIO              1.000000            -0.251018\n",
       "IMPORT_DWELL_SCALED              -0.251018             1.000000"
      ]
     },
     "execution_count": 51,
     "metadata": {},
     "output_type": "execute_result"
    }
   ],
   "source": [
    "shipment_vessel_port_final[['UNIQUE_VESSELS_RATIO','IMPORT_DWELL_SCALED']].corr()"
   ]
  },
  {
   "cell_type": "markdown",
   "metadata": {},
   "source": [
    "total number of arrival at terminal1 / total number of arrivals at port"
   ]
  },
  {
   "cell_type": "code",
   "execution_count": 52,
   "metadata": {},
   "outputs": [],
   "source": [
    "# Group by both DESTINATION_PORT and Terminal, then count the number of arrivals\n",
    "arrivals_per_terminal = shipment_vessel_port_final.groupby(['DESTINATION_PORT', 'Terminal']).size().reset_index(name='TOTAL_ARRIVALS_PER_TERMINAL')"
   ]
  },
  {
   "cell_type": "code",
   "execution_count": 53,
   "metadata": {},
   "outputs": [
    {
     "data": {
      "text/html": [
       "<div>\n",
       "<style scoped>\n",
       "    .dataframe tbody tr th:only-of-type {\n",
       "        vertical-align: middle;\n",
       "    }\n",
       "\n",
       "    .dataframe tbody tr th {\n",
       "        vertical-align: top;\n",
       "    }\n",
       "\n",
       "    .dataframe thead th {\n",
       "        text-align: right;\n",
       "    }\n",
       "</style>\n",
       "<table border=\"1\" class=\"dataframe\">\n",
       "  <thead>\n",
       "    <tr style=\"text-align: right;\">\n",
       "      <th></th>\n",
       "      <th>DESTINATION_PORT</th>\n",
       "      <th>Terminal</th>\n",
       "      <th>TOTAL_ARRIVALS_PER_TERMINAL</th>\n",
       "    </tr>\n",
       "  </thead>\n",
       "  <tbody>\n",
       "    <tr>\n",
       "      <th>0</th>\n",
       "      <td>CHARLESTON</td>\n",
       "      <td>WWT (WANDO WELCH TERMINAL)</td>\n",
       "      <td>49</td>\n",
       "    </tr>\n",
       "    <tr>\n",
       "      <th>1</th>\n",
       "      <td>HAMBURG</td>\n",
       "      <td>CTA (CONTAINER TERMINAL ALTENWERDER)</td>\n",
       "      <td>1</td>\n",
       "    </tr>\n",
       "    <tr>\n",
       "      <th>2</th>\n",
       "      <td>HONG KONG</td>\n",
       "      <td>HIT (HONGKONG INTERNATIONAL TERMINALS )</td>\n",
       "      <td>4</td>\n",
       "    </tr>\n",
       "    <tr>\n",
       "      <th>3</th>\n",
       "      <td>HONOLULU</td>\n",
       "      <td>PIER 1 - PORT OF HONOLULU</td>\n",
       "      <td>1</td>\n",
       "    </tr>\n",
       "    <tr>\n",
       "      <th>4</th>\n",
       "      <td>JACKSONVILLE</td>\n",
       "      <td>TRAPAC JACKSONVILLE</td>\n",
       "      <td>3</td>\n",
       "    </tr>\n",
       "    <tr>\n",
       "      <th>5</th>\n",
       "      <td>LONG BEACH</td>\n",
       "      <td>ITS (INTL TRANSPORTATION SERVICES)</td>\n",
       "      <td>47</td>\n",
       "    </tr>\n",
       "    <tr>\n",
       "      <th>6</th>\n",
       "      <td>LOS ANGELES</td>\n",
       "      <td>APM TERMINALS LA (MARINE)</td>\n",
       "      <td>7</td>\n",
       "    </tr>\n",
       "    <tr>\n",
       "      <th>7</th>\n",
       "      <td>LOS ANGELES</td>\n",
       "      <td>TRAPAC LOS ANGELES</td>\n",
       "      <td>35</td>\n",
       "    </tr>\n",
       "    <tr>\n",
       "      <th>8</th>\n",
       "      <td>LOS ANGELES</td>\n",
       "      <td>WBCT (WEST BASIN CONTAINER TERMINAL)</td>\n",
       "      <td>14</td>\n",
       "    </tr>\n",
       "    <tr>\n",
       "      <th>9</th>\n",
       "      <td>LOS ANGELES</td>\n",
       "      <td>YTI (YUSEN TERMINAL INTL)</td>\n",
       "      <td>92</td>\n",
       "    </tr>\n",
       "    <tr>\n",
       "      <th>10</th>\n",
       "      <td>NEW YORK</td>\n",
       "      <td>APM TERMINALS NEWARK</td>\n",
       "      <td>4</td>\n",
       "    </tr>\n",
       "    <tr>\n",
       "      <th>11</th>\n",
       "      <td>NEW YORK</td>\n",
       "      <td>GCT BAYONNE TERMINAL</td>\n",
       "      <td>189</td>\n",
       "    </tr>\n",
       "    <tr>\n",
       "      <th>12</th>\n",
       "      <td>NEW YORK</td>\n",
       "      <td>MAHER NEWARK</td>\n",
       "      <td>3</td>\n",
       "    </tr>\n",
       "    <tr>\n",
       "      <th>13</th>\n",
       "      <td>NORFOLK</td>\n",
       "      <td>NIT (NORFOLK INTL TERMINAL)</td>\n",
       "      <td>12</td>\n",
       "    </tr>\n",
       "    <tr>\n",
       "      <th>14</th>\n",
       "      <td>NORFOLK</td>\n",
       "      <td>VIG (VIRGINIA INTL GATEWAY)</td>\n",
       "      <td>1</td>\n",
       "    </tr>\n",
       "    <tr>\n",
       "      <th>15</th>\n",
       "      <td>OAKLAND</td>\n",
       "      <td>OICT (OAKLAND INTL CONTAINER TERMINAL)</td>\n",
       "      <td>5</td>\n",
       "    </tr>\n",
       "    <tr>\n",
       "      <th>16</th>\n",
       "      <td>OAKLAND</td>\n",
       "      <td>TRAPAC OAKLAND</td>\n",
       "      <td>35</td>\n",
       "    </tr>\n",
       "    <tr>\n",
       "      <th>17</th>\n",
       "      <td>PUSAN</td>\n",
       "      <td>PNC (PUSAN NEWPORT COMPANY)</td>\n",
       "      <td>1</td>\n",
       "    </tr>\n",
       "    <tr>\n",
       "      <th>18</th>\n",
       "      <td>ROTTERDAM</td>\n",
       "      <td>ECT DELTA TERMINAL</td>\n",
       "      <td>1</td>\n",
       "    </tr>\n",
       "    <tr>\n",
       "      <th>19</th>\n",
       "      <td>SAVANNAH</td>\n",
       "      <td>GARDEN CITY TERMINAL</td>\n",
       "      <td>135</td>\n",
       "    </tr>\n",
       "    <tr>\n",
       "      <th>20</th>\n",
       "      <td>SEATTLE</td>\n",
       "      <td>T18 - SEATTLE</td>\n",
       "      <td>6</td>\n",
       "    </tr>\n",
       "    <tr>\n",
       "      <th>21</th>\n",
       "      <td>SHANGHAI</td>\n",
       "      <td>SHANGHAI PUDONG INTERNATIONAL (WGQ)</td>\n",
       "      <td>8</td>\n",
       "    </tr>\n",
       "    <tr>\n",
       "      <th>22</th>\n",
       "      <td>SHANGHAI</td>\n",
       "      <td>SIPG (SHANGHAI INTL PORT GROUP) - WAIGAOQIAO</td>\n",
       "      <td>51</td>\n",
       "    </tr>\n",
       "    <tr>\n",
       "      <th>23</th>\n",
       "      <td>SHANGHAI</td>\n",
       "      <td>SIPG - SHANGDONG BRANCH</td>\n",
       "      <td>163</td>\n",
       "    </tr>\n",
       "    <tr>\n",
       "      <th>24</th>\n",
       "      <td>SINGAPORE</td>\n",
       "      <td>PSA (PORT OF SINGAPORE AUTHORITY)</td>\n",
       "      <td>20</td>\n",
       "    </tr>\n",
       "    <tr>\n",
       "      <th>25</th>\n",
       "      <td>TACOMA</td>\n",
       "      <td>HUSKY TERMINAL</td>\n",
       "      <td>12</td>\n",
       "    </tr>\n",
       "    <tr>\n",
       "      <th>26</th>\n",
       "      <td>TACOMA</td>\n",
       "      <td>WUT (WASHINGTON UNITED TERMINALS)</td>\n",
       "      <td>49</td>\n",
       "    </tr>\n",
       "    <tr>\n",
       "      <th>27</th>\n",
       "      <td>TOKYO</td>\n",
       "      <td>OHI NO.6-7 TERMINAL</td>\n",
       "      <td>1</td>\n",
       "    </tr>\n",
       "    <tr>\n",
       "      <th>28</th>\n",
       "      <td>VANCOUVER</td>\n",
       "      <td>3891 DELTAPORT GCT</td>\n",
       "      <td>17</td>\n",
       "    </tr>\n",
       "    <tr>\n",
       "      <th>29</th>\n",
       "      <td>WILMINGTON</td>\n",
       "      <td>WILMINGTON (NORTH CAROLINA PORTS)</td>\n",
       "      <td>3</td>\n",
       "    </tr>\n",
       "    <tr>\n",
       "      <th>30</th>\n",
       "      <td>YANTIAN</td>\n",
       "      <td>YICT (YANTIAN INTL CONTAINER TERMINAL)</td>\n",
       "      <td>1</td>\n",
       "    </tr>\n",
       "  </tbody>\n",
       "</table>\n",
       "</div>"
      ],
      "text/plain": [
       "   DESTINATION_PORT                                      Terminal  \\\n",
       "0        CHARLESTON                    WWT (WANDO WELCH TERMINAL)   \n",
       "1           HAMBURG          CTA (CONTAINER TERMINAL ALTENWERDER)   \n",
       "2         HONG KONG       HIT (HONGKONG INTERNATIONAL TERMINALS )   \n",
       "3          HONOLULU                     PIER 1 - PORT OF HONOLULU   \n",
       "4      JACKSONVILLE                           TRAPAC JACKSONVILLE   \n",
       "5        LONG BEACH            ITS (INTL TRANSPORTATION SERVICES)   \n",
       "6       LOS ANGELES                     APM TERMINALS LA (MARINE)   \n",
       "7       LOS ANGELES                            TRAPAC LOS ANGELES   \n",
       "8       LOS ANGELES          WBCT (WEST BASIN CONTAINER TERMINAL)   \n",
       "9       LOS ANGELES                     YTI (YUSEN TERMINAL INTL)   \n",
       "10         NEW YORK                          APM TERMINALS NEWARK   \n",
       "11         NEW YORK                          GCT BAYONNE TERMINAL   \n",
       "12         NEW YORK                                  MAHER NEWARK   \n",
       "13          NORFOLK                   NIT (NORFOLK INTL TERMINAL)   \n",
       "14          NORFOLK                   VIG (VIRGINIA INTL GATEWAY)   \n",
       "15          OAKLAND        OICT (OAKLAND INTL CONTAINER TERMINAL)   \n",
       "16          OAKLAND                                TRAPAC OAKLAND   \n",
       "17            PUSAN                   PNC (PUSAN NEWPORT COMPANY)   \n",
       "18        ROTTERDAM                            ECT DELTA TERMINAL   \n",
       "19         SAVANNAH                          GARDEN CITY TERMINAL   \n",
       "20          SEATTLE                                 T18 - SEATTLE   \n",
       "21         SHANGHAI           SHANGHAI PUDONG INTERNATIONAL (WGQ)   \n",
       "22         SHANGHAI  SIPG (SHANGHAI INTL PORT GROUP) - WAIGAOQIAO   \n",
       "23         SHANGHAI                       SIPG - SHANGDONG BRANCH   \n",
       "24        SINGAPORE             PSA (PORT OF SINGAPORE AUTHORITY)   \n",
       "25           TACOMA                                HUSKY TERMINAL   \n",
       "26           TACOMA             WUT (WASHINGTON UNITED TERMINALS)   \n",
       "27            TOKYO                           OHI NO.6-7 TERMINAL   \n",
       "28        VANCOUVER                            3891 DELTAPORT GCT   \n",
       "29       WILMINGTON             WILMINGTON (NORTH CAROLINA PORTS)   \n",
       "30          YANTIAN        YICT (YANTIAN INTL CONTAINER TERMINAL)   \n",
       "\n",
       "    TOTAL_ARRIVALS_PER_TERMINAL  \n",
       "0                            49  \n",
       "1                             1  \n",
       "2                             4  \n",
       "3                             1  \n",
       "4                             3  \n",
       "5                            47  \n",
       "6                             7  \n",
       "7                            35  \n",
       "8                            14  \n",
       "9                            92  \n",
       "10                            4  \n",
       "11                          189  \n",
       "12                            3  \n",
       "13                           12  \n",
       "14                            1  \n",
       "15                            5  \n",
       "16                           35  \n",
       "17                            1  \n",
       "18                            1  \n",
       "19                          135  \n",
       "20                            6  \n",
       "21                            8  \n",
       "22                           51  \n",
       "23                          163  \n",
       "24                           20  \n",
       "25                           12  \n",
       "26                           49  \n",
       "27                            1  \n",
       "28                           17  \n",
       "29                            3  \n",
       "30                            1  "
      ]
     },
     "execution_count": 53,
     "metadata": {},
     "output_type": "execute_result"
    }
   ],
   "source": [
    "arrivals_per_terminal"
   ]
  },
  {
   "cell_type": "code",
   "execution_count": 54,
   "metadata": {},
   "outputs": [],
   "source": [
    "# Group by DESTINATION_PORT, then count the number of arrivals\n",
    "total_arrivals_per_port = shipment_vessel_port_final.groupby('DESTINATION_PORT').size().reset_index(name='TOTAL_ARRIVALS_AT_PORT')"
   ]
  },
  {
   "cell_type": "code",
   "execution_count": 55,
   "metadata": {},
   "outputs": [],
   "source": [
    "# Merge total arrivals per port with the arrivals per terminal DataFrame\n",
    "arrivals_per_terminal = arrivals_per_terminal.merge(total_arrivals_per_port, on='DESTINATION_PORT', how='left')"
   ]
  },
  {
   "cell_type": "code",
   "execution_count": 56,
   "metadata": {},
   "outputs": [],
   "source": [
    "# Calculate the ratio of arrivals per terminal to total arrivals at the port\n",
    "arrivals_per_terminal['ARRIVALS_RATIO'] = arrivals_per_terminal['TOTAL_ARRIVALS_PER_TERMINAL'] / arrivals_per_terminal['TOTAL_ARRIVALS_AT_PORT']"
   ]
  },
  {
   "cell_type": "code",
   "execution_count": 57,
   "metadata": {},
   "outputs": [],
   "source": [
    "# Merge the ratio back to the original dataset\n",
    "shipment_vessel_port_final = shipment_vessel_port_final.merge(arrivals_per_terminal[['DESTINATION_PORT', 'Terminal', 'ARRIVALS_RATIO']], on=['DESTINATION_PORT', 'Terminal'], how='left')"
   ]
  },
  {
   "cell_type": "code",
   "execution_count": 58,
   "metadata": {},
   "outputs": [
    {
     "data": {
      "text/html": [
       "<div>\n",
       "<style scoped>\n",
       "    .dataframe tbody tr th:only-of-type {\n",
       "        vertical-align: middle;\n",
       "    }\n",
       "\n",
       "    .dataframe tbody tr th {\n",
       "        vertical-align: top;\n",
       "    }\n",
       "\n",
       "    .dataframe thead th {\n",
       "        text-align: right;\n",
       "    }\n",
       "</style>\n",
       "<table border=\"1\" class=\"dataframe\">\n",
       "  <thead>\n",
       "    <tr style=\"text-align: right;\">\n",
       "      <th></th>\n",
       "      <th>ARRIVALS_RATIO</th>\n",
       "      <th>IMPORT_DWELL_SCALED</th>\n",
       "    </tr>\n",
       "  </thead>\n",
       "  <tbody>\n",
       "    <tr>\n",
       "      <th>ARRIVALS_RATIO</th>\n",
       "      <td>1.00000</td>\n",
       "      <td>-0.26426</td>\n",
       "    </tr>\n",
       "    <tr>\n",
       "      <th>IMPORT_DWELL_SCALED</th>\n",
       "      <td>-0.26426</td>\n",
       "      <td>1.00000</td>\n",
       "    </tr>\n",
       "  </tbody>\n",
       "</table>\n",
       "</div>"
      ],
      "text/plain": [
       "                     ARRIVALS_RATIO  IMPORT_DWELL_SCALED\n",
       "ARRIVALS_RATIO              1.00000             -0.26426\n",
       "IMPORT_DWELL_SCALED        -0.26426              1.00000"
      ]
     },
     "execution_count": 58,
     "metadata": {},
     "output_type": "execute_result"
    }
   ],
   "source": [
    "shipment_vessel_port_final[['ARRIVALS_RATIO','IMPORT_DWELL_SCALED']].corr()"
   ]
  },
  {
   "cell_type": "code",
   "execution_count": 59,
   "metadata": {},
   "outputs": [
    {
     "data": {
      "text/plain": [
       "Index(['Unnamed: 0.1', 'Unnamed: 0', 'VESSEL', 'IMO', 'ORIGIN_PORT',\n",
       "       'DESTINATION_PORT', 'ARRIVAL_TIME', 'GATEOUT_TIME', 'HAZMAT',\n",
       "       'IMPORT_DWELL', 'IMPORT_DWELL_SCALED', 'RF', 'Container_Size',\n",
       "       'IS_WEEKEND', 'LENGTH', 'CLUSTER', 'VESSEL_CATEGORY', 'Terminal',\n",
       "       'Service Lane', 'Voyage #', 'Departure Time', 'Port Cut off Time',\n",
       "       'VTT', 'AVERAGE_BERTH_TIME', 'Total_Arrival_in_Window',\n",
       "       'Terminals_in_Port', 'UNIQUE_VESSELS_RATIO', 'ARRIVALS_RATIO'],\n",
       "      dtype='object')"
      ]
     },
     "execution_count": 59,
     "metadata": {},
     "output_type": "execute_result"
    }
   ],
   "source": [
    "shipment_vessel_port_final.columns"
   ]
  },
  {
   "cell_type": "code",
   "execution_count": 60,
   "metadata": {},
   "outputs": [],
   "source": [
    "shipment_vessel_port_final.to_csv('final_data.csv')"
   ]
  },
  {
   "cell_type": "code",
   "execution_count": null,
   "metadata": {},
   "outputs": [],
   "source": []
  }
 ],
 "metadata": {
  "kernelspec": {
   "display_name": "base",
   "language": "python",
   "name": "python3"
  },
  "language_info": {
   "codemirror_mode": {
    "name": "ipython",
    "version": 3
   },
   "file_extension": ".py",
   "mimetype": "text/x-python",
   "name": "python",
   "nbconvert_exporter": "python",
   "pygments_lexer": "ipython3",
   "version": "3.8.5"
  }
 },
 "nbformat": 4,
 "nbformat_minor": 2
}
